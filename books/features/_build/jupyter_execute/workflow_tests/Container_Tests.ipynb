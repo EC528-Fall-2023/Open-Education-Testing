{
 "cells": [
  {
   "cell_type": "markdown",
   "id": "c8127f84-6227-4932-98da-dc745c2818e9",
   "metadata": {},
   "source": [
    "# Container_Tests"
   ]
  },
  {
   "cell_type": "markdown",
   "id": "d9bee3d3-b8ec-420c-925a-0040b1d942df",
   "metadata": {},
   "source": [
    "## Testing Overview\n",
    "OPE testing is separated into two parts: (1) container testing and (2) environment testing. A GitHub actions workflow builds the container based on the metadata provided in `base/config.yml`, which includes packages, base image configuration, and image registry information (i.e. where the final container will be published). After building the container image, the workflow runs a series of tests in parallel using [github runners](https://docs.github.com/en/actions/using-github-hosted-runners/about-github-hosted-runners). If the image pass all of these tests, then a runner publishes it to the image registry (e.g. [quay.io](https://quay.io/)). See the architecture diagram below for a visual run-through of the steps listed above."
   ]
  },
  {
   "cell_type": "markdown",
   "id": "8fe7f161-23d1-45b9-8ae4-7cefcb35fd2d",
   "metadata": {
    "jp-MarkdownHeadingCollapsed": true,
    "tags": []
   },
   "source": [
    "## Testing Architecture Diagram\n",
    "![ope testing](images/workflow.png)"
   ]
  },
  {
   "cell_type": "markdown",
   "id": "c9aa667c-dd32-4e44-a488-73ef86f231f0",
   "metadata": {
    "tags": []
   },
   "source": [
    "## Example Run of Actions\n",
    "You can see that this workflow was triggered by a push, and that all of the tests passed. For more information on GitHub actions documentation see the official [actions documentation](https://docs.github.com/en/actions). \n",
    "\n",
    "![Github Actions](./images/gh_actions.png)\n",
    "\n",
    "Checking the corresponding quay.io repo we can see that the image was successfully pushed to the registry. Red Hat Quay is like GitHub but for storing container images instead of code, and it has the added benefit of providing vulnerability analysis on the images.\n",
    "\n",
    "![Quay](./images/quay.png)\n",
    "\n",
    "The following sections of this chapter go into further detail for each test documenting why we have the test and how the test works. There is also a final section in the chapter for how to write your own tests if you want to contribute to the OPE project testing infrastructure!"
   ]
  }
 ],
 "metadata": {
  "kernelspec": {
   "display_name": "Python 3 (ipykernel)",
   "language": "python",
   "name": "python3"
  },
  "language_info": {
   "codemirror_mode": {
    "name": "ipython",
    "version": 3
   },
   "file_extension": ".py",
   "mimetype": "text/x-python",
   "name": "python",
   "nbconvert_exporter": "python",
   "pygments_lexer": "ipython3",
   "version": "3.10.13"
  }
 },
 "nbformat": 4,
 "nbformat_minor": 5
}