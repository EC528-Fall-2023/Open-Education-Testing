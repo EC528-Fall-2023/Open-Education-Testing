{
 "cells": [
  {
   "cell_type": "markdown",
   "id": "c8127f84-6227-4932-98da-dc745c2818e9",
   "metadata": {},
   "source": [
    "# Health\n",
    "This test verifies that Docker can properly run the container. See the image below for an example run."
   ]
  },
  {
   "cell_type": "markdown",
   "id": "0c1a2a64-910f-467c-a2af-bf4ab3b46db6",
   "metadata": {
    "tags": []
   },
   "source": [
    "## Valiating True Positive\n",
    "![health](images/health.png)"
   ]
  },
  {
   "cell_type": "code",
   "execution_count": null,
   "id": "e9745e74-37aa-47dc-aa5e-6a64ec288a49",
   "metadata": {},
   "outputs": [],
   "source": []
  }
 ],
 "metadata": {
  "kernelspec": {
   "display_name": "Python 3 (ipykernel)",
   "language": "python",
   "name": "python3"
  },
  "language_info": {
   "codemirror_mode": {
    "name": "ipython",
    "version": 3
   },
   "file_extension": ".py",
   "mimetype": "text/x-python",
   "name": "python",
   "nbconvert_exporter": "python",
   "pygments_lexer": "ipython3",
   "version": "3.10.13"
  }
 },
 "nbformat": 4,
 "nbformat_minor": 5
}