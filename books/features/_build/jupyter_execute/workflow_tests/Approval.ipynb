{
 "cells": [
  {
   "cell_type": "markdown",
   "id": "c8127f84-6227-4932-98da-dc745c2818e9",
   "metadata": {},
   "source": [
    "# Approval\n",
    "The `Approval` github action awaits all of the tests passing then approves the actions workflow. This provides an added layer of security since the approval must be made with a POST API request before running the final action, `Publish`, which pushes the image to the public quay repo.\n",
    "![approval](images/approval.png)"
   ]
  },
  {
   "cell_type": "code",
   "execution_count": null,
   "id": "d8bbdc15-6f70-44b9-bdb6-d6d729aaa0cd",
   "metadata": {},
   "outputs": [],
   "source": []
  }
 ],
 "metadata": {
  "kernelspec": {
   "display_name": "Python 3 (ipykernel)",
   "language": "python",
   "name": "python3"
  },
  "language_info": {
   "codemirror_mode": {
    "name": "ipython",
    "version": 3
   },
   "file_extension": ".py",
   "mimetype": "text/x-python",
   "name": "python",
   "nbconvert_exporter": "python",
   "pygments_lexer": "ipython3",
   "version": "3.10.13"
  }
 },
 "nbformat": 4,
 "nbformat_minor": 5
}