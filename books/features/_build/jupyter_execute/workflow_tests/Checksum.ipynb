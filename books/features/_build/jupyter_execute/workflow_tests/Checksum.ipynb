{
 "cells": [
  {
   "cell_type": "markdown",
   "id": "c8127f84-6227-4932-98da-dc745c2818e9",
   "metadata": {},
   "source": [
    "# Checksum"
   ]
  },
  {
   "cell_type": "markdown",
   "id": "626f8966",
   "metadata": {},
   "source": [
    "The checksum test generates a 64 character hash to verify that the notebook's container image is correct.\n",
    "It compares an existing hash inside `/base/config.yml` with a locally generated hash-generated sum using the command:\n",
    "\n",
    "`find / -not \\( -path /proc -prune \\) -not \\( -path /sys -prune \\) -type f -exec stat -c '%n %a' {} + | LC_ALL=C sort | sha256sum | cut -c 1-64`\n",
    "\n",
    "This command traverses through the file system of the user's container, excluding `/proc` and `/sys` directories. For all other directory paths, the name and permissions are used to calculate the checksum.\n",
    "\n",
    "In the event of an checksum failure, please verify that:\n",
    "- The checksum in `/base/config.yml` is up-to-date with the latest version of the container.\n",
    "- No additional directrory or permission modifications have been made since the last generated checksum."
   ]
  },
  {
   "cell_type": "markdown",
   "id": "f6c2e053-6b88-4e4a-b28f-f0c09fa6d757",
   "metadata": {},
   "source": [
    "This page was written by: Jonathan Mikalov"
   ]
  },
  {
   "cell_type": "code",
   "execution_count": null,
   "id": "b76ba214-c3a0-4d0e-9999-92f48ecd77e2",
   "metadata": {},
   "outputs": [],
   "source": []
  }
 ],
 "metadata": {
  "kernelspec": {
   "display_name": "Python 3 (ipykernel)",
   "language": "python",
   "name": "python3"
  },
  "language_info": {
   "codemirror_mode": {
    "name": "ipython",
    "version": 3
   },
   "file_extension": ".py",
   "mimetype": "text/x-python",
   "name": "python",
   "nbconvert_exporter": "python",
   "pygments_lexer": "ipython3",
   "version": "3.10.13"
  }
 },
 "nbformat": 4,
 "nbformat_minor": 5
}