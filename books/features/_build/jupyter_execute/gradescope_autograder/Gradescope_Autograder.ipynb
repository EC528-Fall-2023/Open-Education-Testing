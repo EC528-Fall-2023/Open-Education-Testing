{
 "cells": [
  {
   "cell_type": "markdown",
   "id": "c8127f84-6227-4932-98da-dc745c2818e9",
   "metadata": {},
   "source": [
    "# Gradescope_Autograder\n",
    "Here is the link to the [GitHub repo](https://github.com/rkulskis/gradescope-autograder/tree/main).\n",
    "\n",
    "This is an example Python autograder that uses the framework layout from the [gradescope example autograder](https://github.com/gradescope/autograder_samples/tree/master/python)\n",
    "and exports the testing to a node on a cluster which has a compatible kernel with the test programs and packages you write for your class.\n",
    "\n",
    "- **Problem:** Assignment test code breaks if there are incompatibilities between the packages they use and the gradescope kernel.\n",
    "- **Solution:** Rather than building a whole new container with the gradescope framework (which may not even run if there are incompatibilities), simply use `ssh` to run the tests on\n",
    "  the custom `container` or `VM` on which the tests work and send the results to the gradescope container for publishing.\n",
    "\n",
    "This solution offers great flexibility for all gradescope users, and especially for those using the OPE framework since the runtime container is already designed and configured on a cluster for running these tests. We want to provide as much ease of adoption to the OPE framework so that professors and general educators can start using OPE all over the world!\n",
    "\n",
    "\n",
    "## Architecture\n",
    "Note that the architecture diagram references the [NERC (New England Research Cloud)](https://nerc-project.github.io/nerc-docs/get-started/create-a-user-portal-account/), but you can set this up with any cloud you want.\n",
    "<img width=\"1275\" alt=\"Screenshot 2023-11-05 at 10 34 48 PM\" src=\"https://github.com/rkulskis/gradescope-autograder/assets/91744036/27cc4214-3cb1-4d31-913a-827735ae3415\">\n",
    "\n",
    "## Configuration\n",
    "1. `id_ed25519` (private key) and `config` files are for ssh configuration to connect to your VM on which the container runs. Configure these as needed.\n",
    "2. Put the contents of your corresponding public key (i.e. `$( cat id_ed25519.pub)`) inside `~/.ssh/authorized_keys` on your VM.\n",
    "3. `tests/` contains all your tests\n",
    "4. `real_run_autograder` and `real_setup.sh` are called once the gradescope container uses ssh to log into your VM.\n",
    "5. inside `real_run_autograder` a282 in the line `CONTAINER_ID=$(docker run -dv $(pwd):/home/autograder_${EMAIL} a282)` should be replaced with your docker image ID which we assume is already pulled onto the VM\n",
    "6. `zip.sh` is a one line script to zip up your autograder and ignore any unecessary file (e.g. `.git` directory). We want to minimize the number of files we have to `scp` to our cluster for the sake of efficiency.\n",
    "## Example run\n",
    "This framwork is designed to handle concurrent requests from different students on gradescope\n",
    "because upon copying state with scp to the VM, a new directory is created based on the student's unique email ID, `~/autograder_${student_ID}`, then subsequently deleted upon\n",
    "pushing the results back to the gradescope container.\n",
    "\n",
    "Due to the naming of submission directories on the NERC container `~/autograder_${student_ID}` rather than `/autograder`, gradescope_utils's `check_submitted_files` \n",
    "fails since it expects the latter path to locate the submission. This wasn't a big issue though and this test can be removed (it's `tests/test_files.py`). All other tests worked.\n",
    "<img width=\"1496\" alt=\"Screenshot 2023-11-05 at 10 36 35 PM\" src=\"https://github.com/rkulskis/gradescope-autograder/assets/91744036/258f701a-f235-4075-8920-c5450bdf2dd2\">\n",
    "Here's a screenshot of the VM on NERC to which the gradescope VM `scp`s the state to and then starts a docker container to run the tests. At the end both the docker container and the directory are cleaned up (deleted) on the NERC VM.\n",
    "<img width=\"912\" alt=\"Screenshot 2023-11-08 at 2 09 16 PM\" src=\"https://github.com/rkulskis/gradescope-autograder/assets/91744036/c2e38e2e-e6bb-4a31-a49c-49d2f5fb770b\">\n",
    "\n",
    "\n",
    "\n",
    "\n",
    "\n"
   ]
  }
 ],
 "metadata": {
  "kernelspec": {
   "display_name": "Python 3 (ipykernel)",
   "language": "python",
   "name": "python3"
  },
  "language_info": {
   "codemirror_mode": {
    "name": "ipython",
    "version": 3
   },
   "file_extension": ".py",
   "mimetype": "text/x-python",
   "name": "python",
   "nbconvert_exporter": "python",
   "pygments_lexer": "ipython3",
   "version": "3.10.13"
  }
 },
 "nbformat": 4,
 "nbformat_minor": 5
}