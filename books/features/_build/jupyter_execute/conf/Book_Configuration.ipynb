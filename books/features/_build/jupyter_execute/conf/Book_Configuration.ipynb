{
 "cells": [
  {
   "cell_type": "markdown",
   "id": "c8127f84-6227-4932-98da-dc745c2818e9",
   "metadata": {},
   "source": [
    "# Book_Configuration\n",
    "This chapter talks about the different configuration and makefiles that help you author your OPE\n",
    "book and publish it to the web."
   ]
  },
  {
   "cell_type": "code",
   "execution_count": null,
   "id": "ccfa294f-92b8-4396-9fec-072f26c6da12",
   "metadata": {},
   "outputs": [],
   "source": []
  }
 ],
 "metadata": {
  "kernelspec": {
   "display_name": "Python 3 (ipykernel)",
   "language": "python",
   "name": "python3"
  },
  "language_info": {
   "codemirror_mode": {
    "name": "ipython",
    "version": 3
   },
   "file_extension": ".py",
   "mimetype": "text/x-python",
   "name": "python",
   "nbconvert_exporter": "python",
   "pygments_lexer": "ipython3",
   "version": "3.10.13"
  }
 },
 "nbformat": 4,
 "nbformat_minor": 5
}