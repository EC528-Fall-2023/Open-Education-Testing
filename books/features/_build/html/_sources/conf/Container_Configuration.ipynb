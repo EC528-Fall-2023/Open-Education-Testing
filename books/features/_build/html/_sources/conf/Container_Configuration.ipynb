{
 "cells": [
  {
   "cell_type": "markdown",
   "id": "c8127f84-6227-4932-98da-dc745c2818e9",
   "metadata": {},
   "source": [
    "# Container_Configuration: \n",
    "\n",
    "## base/config.yml\n",
    "This file is where you specify container metadata before building such as:\n",
    "* packages\n",
    "* base image source\n",
    "* image tag\n",
    "* environmental variables (e.g. UID/GID)\n",
    "* image registry *note: you need to add `secrets.REGISTRY_PASSWORD` to your github actions secrets*\n",
    "\n",
    "The manifest is evaluated using the CLI tool `yq`.\n",
    "\n",
    "## test/versions.txt\n",
    "If a user wants a frozen manifest of certain python packages, they can put that in this file. We separated this from `base/config.yml` since this file is meant to be initialized using `pip list > versions.txt` which is much easier than typing or formatting the same output into a `.yml` file."
   ]
  },
  {
   "cell_type": "code",
   "execution_count": null,
   "id": "03db7e27-a30a-4759-8923-5831c6a020b6",
   "metadata": {},
   "outputs": [],
   "source": []
  }
 ],
 "metadata": {
  "kernelspec": {
   "display_name": "Python 3 (ipykernel)",
   "language": "python",
   "name": "python3"
  },
  "language_info": {
   "codemirror_mode": {
    "name": "ipython",
    "version": 3
   },
   "file_extension": ".py",
   "mimetype": "text/x-python",
   "name": "python",
   "nbconvert_exporter": "python",
   "pygments_lexer": "ipython3",
   "version": "3.10.13"
  }
 },
 "nbformat": 4,
 "nbformat_minor": 5
}
