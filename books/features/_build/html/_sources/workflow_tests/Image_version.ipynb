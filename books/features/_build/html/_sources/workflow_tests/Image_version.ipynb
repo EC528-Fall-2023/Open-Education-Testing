{
 "cells": [
  {
   "cell_type": "markdown",
   "id": "c8127f84-6227-4932-98da-dc745c2818e9",
   "metadata": {},
   "source": [
    "# Image_version\n",
    "This test verifies that the image tag maches\n",
    "![image version](./images/image_version.png)"
   ]
  },
  {
   "cell_type": "code",
   "execution_count": null,
   "id": "935b351a-a0b6-4864-846e-96ac3eaa0120",
   "metadata": {},
   "outputs": [],
   "source": []
  }
 ],
 "metadata": {
  "kernelspec": {
   "display_name": "Python 3 (ipykernel)",
   "language": "python",
   "name": "python3"
  },
  "language_info": {
   "codemirror_mode": {
    "name": "ipython",
    "version": 3
   },
   "file_extension": ".py",
   "mimetype": "text/x-python",
   "name": "python",
   "nbconvert_exporter": "python",
   "pygments_lexer": "ipython3",
   "version": "3.10.13"
  }
 },
 "nbformat": 4,
 "nbformat_minor": 5
}
