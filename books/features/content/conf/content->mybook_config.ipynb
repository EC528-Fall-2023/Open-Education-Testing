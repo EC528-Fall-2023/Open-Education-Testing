{
 "cells": [
  {
   "cell_type": "markdown",
   "id": "c8127f84-6227-4932-98da-dc745c2818e9",
   "metadata": {},
   "source": [
    "# content/${bookname}_config.yml"
   ]
  },
  {
   "cell_type": "markdown",
   "id": "b71834a2-527f-4832-b363-1528d73f689c",
   "metadata": {},
   "source": [
    "This file is for your book configuration metadata such as \n",
    "* title\n",
    "* author\n",
    "* book logo\n",
    "* links\n",
    "* enabled `myst` extensions"
   ]
  }
 ],
 "metadata": {
  "kernelspec": {
   "display_name": "Python 3 (ipykernel)",
   "language": "python",
   "name": "python3"
  },
  "language_info": {
   "codemirror_mode": {
    "name": "ipython",
    "version": 3
   },
   "file_extension": ".py",
   "mimetype": "text/x-python",
   "name": "python",
   "nbconvert_exporter": "python",
   "pygments_lexer": "ipython3",
   "version": "3.10.13"
  }
 },
 "nbformat": 4,
 "nbformat_minor": 5
}
