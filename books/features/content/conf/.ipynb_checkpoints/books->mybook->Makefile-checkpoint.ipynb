{
 "cells": [
  {
   "cell_type": "markdown",
   "id": "c8127f84-6227-4932-98da-dc745c2818e9",
   "metadata": {},
   "source": [
    "# books/${bookname}/Makefile"
   ]
  },
  {
   "cell_type": "markdown",
   "id": "583a5b3e-aa86-4aa0-b902-f1836f0e54a1",
   "metadata": {
    "tags": []
   },
   "source": [
    "## make & make pub\n",
    "To publish your book run `make` and `make pub` which creates a corresponding `gh-pages` branch where your published webpage will reside. The link will be printed to stdout in the terminal for you to click on and visit your webpage. It usually takes around 15-30 seconds for the book to build with github actions on your `gh-pages` branch."
   ]
  },
  {
   "cell_type": "markdown",
   "id": "1dff13f0-b4dc-4d87-aba6-783d66d42d77",
   "metadata": {
    "tags": []
   },
   "source": [
    "## make toc\n",
    "This command will build the book content manifest specified in `content/book_toc.yml`\n",
    "such that each file gets corresponding `.ipynb` file with markdown title cell.\n",
    "Also, each chapter directory gets a corresponding `images` folder. \n",
    "![creat_toc](images/creat_toc.png)\n",
    "\n",
    "## make clean_toc\n",
    "This command is meant to save time for the user in authoring their book. `make clean_toc` \n",
    "does `rm -rf` on everything specified in your `content/book_toc.yml` file if you want a fresh\n",
    "start!\n",
    "![clean_toc](images/clean_toc.png)"
   ]
  },
  {
   "cell_type": "code",
   "execution_count": null,
   "id": "d67bf73b-1416-4d1b-be7e-c766846ae21a",
   "metadata": {},
   "outputs": [],
   "source": []
  }
 ],
 "metadata": {
  "kernelspec": {
   "display_name": "Python 3 (ipykernel)",
   "language": "python",
   "name": "python3"
  },
  "language_info": {
   "codemirror_mode": {
    "name": "ipython",
    "version": 3
   },
   "file_extension": ".py",
   "mimetype": "text/x-python",
   "name": "python",
   "nbconvert_exporter": "python",
   "pygments_lexer": "ipython3",
   "version": "3.10.13"
  }
 },
 "nbformat": 4,
 "nbformat_minor": 5
}
