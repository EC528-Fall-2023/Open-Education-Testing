{
 "cells": [
  {
   "cell_type": "markdown",
   "id": "c8127f84-6227-4932-98da-dc745c2818e9",
   "metadata": {},
   "source": [
    "# Size_and_time\n",
    "This isn't a test; however, it's put into a separate workflow for debugging purposes to display the `size` of the image and the `time` it took to build. Build time was uploaded in `Setup-and-Build` as a [github artifact](https://docs.github.com/en/actions/using-workflows/storing-workflow-data-as-artifacts) under the name `time.txt`. This script extracts it and displays it.\n",
    "\n",
    "![size_time](images/size_time.png)"
   ]
  }
 ],
 "metadata": {
  "kernelspec": {
   "display_name": "Python 3 (ipykernel)",
   "language": "python",
   "name": "python3"
  },
  "language_info": {
   "codemirror_mode": {
    "name": "ipython",
    "version": 3
   },
   "file_extension": ".py",
   "mimetype": "text/x-python",
   "name": "python",
   "nbconvert_exporter": "python",
   "pygments_lexer": "ipython3",
   "version": "3.10.13"
  }
 },
 "nbformat": 4,
 "nbformat_minor": 5
}
