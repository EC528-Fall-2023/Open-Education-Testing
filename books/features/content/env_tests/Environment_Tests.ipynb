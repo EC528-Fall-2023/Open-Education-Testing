{
 "cells": [
  {
   "cell_type": "markdown",
   "id": "31074b88-28cd-4fc9-901a-6019af60e39d",
   "metadata": {
    "tags": []
   },
   "source": [
    "# Environment_Tests\n",
    "\n",
    "These tests are grouped into a single notebook called `all_tests.ipynb` which you can run using the `ope test` command. Running this command outputs the results of the tests, separating them into two groups of `PASSED TESTS` and `FAILED TESTS`. We keep track of these groups using the global variables `ERRORS` and `PASSES` which are initialized below."
   ]
  },
  {
   "cell_type": "code",
   "execution_count": 3,
   "id": "efa71a7e-855f-43f5-b898-f49b814f23d5",
   "metadata": {
    "tags": []
   },
   "outputs": [],
   "source": [
    "# global var to keep track of test results we have\n",
    "ERRORS = []\n",
    "PASSES = []"
   ]
  },
  {
   "cell_type": "markdown",
   "id": "29b8269d-09d6-48c0-86bb-0d4e96827325",
   "metadata": {
    "user_expressions": []
   },
   "source": [
    "### Write Permission to Home Directory Test"
   ]
  },
  {
   "cell_type": "code",
   "execution_count": 4,
   "id": "420d81be-46f8-4c72-b2e3-e52b3774ee09",
   "metadata": {
    "tags": []
   },
   "outputs": [],
   "source": [
    "import subprocess\n",
    "import os\n",
    "def shelltest(CMD):\n",
    "    global ERRORS\n",
    "    try:\n",
    "        result = subprocess.check_output(CMD, shell=True, stderr=subprocess.STDOUT)\n",
    "        return 0, result.decode('utf-8')\n",
    "    except subprocess.CalledProcessError as e:\n",
    "        return e.returncode, e.output.decode('utf-8')\n",
    "    except Exception as e:  # new add: handle exceptions \n",
    "        return -1, str(e)\n",
    "\n",
    "# Test to check write permissions to home directory\n",
    "TEST = \"WRITE PERMISSION TO HOME DIRECTORY\"\n",
    "CMD = f\"touch {os.path.expanduser('~')}/test_write_permissions.tmp && echo 'Write Permission: Yes' && rm {os.path.expanduser('~')}/test_write_permissions.tmp || echo 'Write Permission: No'\"\n",
    "\n",
    "# Execute Test\n",
    "e, output = shelltest(CMD)\n",
    "if e == 0:\n",
    "    PASSES.append(\"Write Permission to Home Directory test\")\n",
    "else:\n",
    "    ERRORS.append(output)"
   ]
  },
  {
   "cell_type": "markdown",
   "id": "aae958c2-b873-416f-83f5-460ed78877e7",
   "metadata": {
    "user_expressions": []
   },
   "source": [
    "### Environmental Variables test\n",
    "\n",
    "This test confirms that the environment variables set from Dockerfile still exist and maintain the same values within the Jupyter Notebook. It also ensures that the user has a valid UID and GID within a customizable range"
   ]
  },
  {
   "cell_type": "code",
   "execution_count": null,
   "id": "2cb52918-b1c4-4b4b-b8ae-bd2298717380",
   "metadata": {},
   "outputs": [],
   "source": [
    "import os\n",
    "\n",
    "#Verify environment variables are correct\n",
    "\n",
    "NB_UID = int(os.environ['NB_UID'])\n",
    "NB_GID = int(os.environ['NB_GID'])\n",
    "NB_GROUP = os.environ['NB_GROUP']\n",
    "\n",
    "XDG_CACHE_HOME = f\"/home/{NB_USER}/.cache/\"\n",
    "\n",
    "UID_LOWER_BOUND = 2000  \n",
    "UID_UPPER_BOUND = 60000 \n",
    "\n",
    "GID_LOWER_BOUND = 2000  \n",
    "GID_UPPER_BOUND = 60000 \n",
    "\n",
    "EXPECTED_NB_GROUP = 'root'\n",
    "\n",
    "err = []\n",
    "\n",
    "def check_environment_test():\n",
    "    if not (UID_LOWER_BOUND <= NB_UID <= UID_UPPER_BOUND):\n",
    "         err.append(f\"NB_UID {NB_UID} is not within the acceptable range: {UID_LOWER_BOUND}-{UID_UPPER_BOUND}.\")\n",
    "\n",
    "\n",
    "    if not (GID_LOWER_BOUND <= NB_GID <= GID_UPPER_BOUND):\n",
    "         err.append(f\"NB_GID {NB_GID} is not within the acceptable range: {GID_LOWER_BOUND}-{GID_UPPER_BOUND}.\")\n",
    "\n",
    "\n",
    "    if  NB_GROUP != EXPECTED_NB_GROUP:\n",
    "         err.append(\"NB_GROUP does not match \" + \"'\" + EXPECTED_NB_GROUP + \"'\")\n",
    "\n",
    "\n",
    "    if NB_USER != 'jovyan':\n",
    "         err.append(\"NB_USER does not match 'jovyan'.\")\n",
    "\n",
    "\n",
    "    if XDG_CACHE_HOME != '/home/jovyan/.cache/':\n",
    "         err.append(\"XDD_CACHE_HOME does not match expected path: /home/jovyan/.cache/\")\n",
    "\n",
    "\n",
    "    if len(err) != 0:\n",
    "         err.append(\"Environmental Variables test\")\n",
    "\n",
    "    else:\n",
    "        s = '; '.join(err)\n",
    "        print(\"Environmental Variables test ERROR: \" + s)\n",
    "    "
   ]
  },
  {
   "cell_type": "markdown",
   "id": "b10a8581-6a85-46ac-9434-dd5fd09f361a",
   "metadata": {
    "user_expressions": []
   },
   "source": [
    "### Network Test\n",
    "This test ensures that the container has a connection to the internet. We use both `ping` and `curl` because some systems may not have one of these utilities by default—in our case, our cluster configuration did not include `ping` by default. If either `ping` or `curl` works properly, then the container is connected to the internet and the test passes, otherwise it fails."
   ]
  },
  {
   "cell_type": "code",
   "execution_count": null,
   "id": "596d4b84-8366-44c4-833f-3f04fbb521a8",
   "metadata": {
    "tags": []
   },
   "outputs": [],
   "source": [
    "# Curl test to check internet connectivity\n",
    "e1, output = shelltest(\"curl google.com\")\n",
    "e2, output = shelltest(\"ping google.com\")\n",
    "if e1 == 0 or e2 == 0:\n",
    "    PASSES.append(\"Network test\")\n",
    "else:\n",
    "    ERRORS.append(\"Network test ERROR: \" + output)"
   ]
  },
  {
   "cell_type": "markdown",
   "id": "97e1fb29-4eaa-465a-8780-2d7a8a4e9721",
   "metadata": {
    "user_expressions": []
   },
   "source": [
    "### Pip-Conda Test"
   ]
  },
  {
   "cell_type": "code",
   "execution_count": 27,
   "id": "14741788-0eb4-4032-a915-d49305ef8b25",
   "metadata": {},
   "outputs": [],
   "source": [
    "TEST = \"PIP PACKAGE INSTALLATION\"\n",
    "CMD = \"pip install --user pytest\"\n",
    "e, output = shelltest(CMD)\n",
    "\n",
    "if e == 0:\n",
    "    PASSES.append(\"Pip-Conda test\")\n",
    "else:\n",
    "    ERRORS.append(\"Pip-Conda test ERROR: \" + output)"
   ]
  },
  {
   "cell_type": "markdown",
   "id": "095538b9-912b-4ed9-9e69-f2db7f8c87df",
   "metadata": {
    "user_expressions": []
   },
   "source": [
    "### Git and SSH Test"
   ]
  },
  {
   "cell_type": "code",
   "execution_count": 28,
   "id": "87d00fc1-092d-467f-9760-18b536cab586",
   "metadata": {},
   "outputs": [],
   "source": [
    "e, output = shelltest(\"readlink -f ~/.gitconfig\")\n",
    "\n",
    "if e == 0:\n",
    "    PASSES.append(\"Git config test\")\n",
    "else:\n",
    "    ERRORS.append(\"Git config test ERROR\" + output)"
   ]
  },
  {
   "cell_type": "code",
   "execution_count": 29,
   "id": "e6bac3c7-2bc8-4d19-ab0a-903e2b380324",
   "metadata": {},
   "outputs": [],
   "source": [
    "e, output = shelltest(\"readlink -f /etc/ssh/ssh_config\")\n",
    "\n",
    "if e == 0:\n",
    "    PASSES.append(\"ssh config test\")\n",
    "else:\n",
    "    ERRORS.append(\"ssh config test ERROR\" + output)"
   ]
  },
  {
   "cell_type": "markdown",
   "id": "43e44066-ddeb-48b8-a74c-ac010070fbcb",
   "metadata": {
    "user_expressions": []
   },
   "source": [
    "### Conda Directory Test"
   ]
  },
  {
   "cell_type": "code",
   "execution_count": 30,
   "id": "f39267bc-fdcc-46ba-984f-84c1c4f87a7d",
   "metadata": {},
   "outputs": [],
   "source": [
    "def check_permissions(dir_path):\n",
    "    \"\"\"Check if a directory is readable and writable.\"\"\"\n",
    "    global ERRORS\n",
    "    try:\n",
    "        readable = os.access(dir_path, os.R_OK)\n",
    "        writable = os.access(dir_path, os.W_OK)\n",
    "        return readable, writable\n",
    "    except Exception as e:\n",
    "        ERRORS.append(\"Conda directory r/w test\" + f\"checking permissions for {dir_path}.\")\n",
    "        return False, False\n",
    "\n",
    "# Identify the conda directories\n",
    "conda_base_dir = os.path.abspath(os.path.join(os.path.dirname(os.sys.executable), \"..\"))\n",
    "conda_env_dir = os.environ.get('CONDA_PREFIX', '')\n",
    "\n",
    "unaccessible_dirs = 0\n",
    "\n",
    "for dir_name, dir_path in [('Conda Base Directory', conda_base_dir), ('Conda Environment Directory', conda_env_dir)]:\n",
    "    readable, writable = check_permissions(dir_path)\n",
    "\n",
    "    if not (readable and writable):\n",
    "        unaccessible_dirs += 1\n",
    "if unaccessible_dirs == 0:\n",
    "    PASSES.append(\"Conda directory r/w test\")"
   ]
  },
  {
   "cell_type": "code",
   "execution_count": 31,
   "id": "52528d0e-1b7b-4565-a4a6-a47eba0086b7",
   "metadata": {},
   "outputs": [
    {
     "name": "stdout",
     "output_type": "stream",
     "text": [
      "FAILED TESTS:\n",
      "-ASLR test ERROR: ASLR status is enabled with status 2 (0 is disabled, 1 is partial and 2 is full)\n",
      "-Network test ERROR: /bin/sh: 1: curl: not found\n",
      "\n",
      "\n",
      "\n",
      "PASSED TESTS:\n",
      "-Write Permission to Home Directory test\n",
      "-Pip-Conda test\n",
      "-Git config test\n",
      "-ssh config test\n"
     ]
    }
   ],
   "source": [
    "if len(ERRORS) > 0:\n",
    "    print(\"FAILED TESTS:\")\n",
    "    print('-' + '\\n-'.join(ERRORS))\n",
    "    print('\\n')\n",
    "    print(\"PASSED TESTS:\")\n",
    "    print('-' + '\\n-'.join(PASSES))\n",
    "else:\n",
    "    print(\"ALL TESTS PASS\")\n",
    "    print('-' + '\\n-'.join(PASSES))"
   ]
  },
  {
   "cell_type": "markdown",
   "id": "9a0259f5",
   "metadata": {},
   "source": [
    "Additional tests can be added to suit the compatability needs of users and textbooks. They may be written in this format:"
   ]
  },
  {
   "cell_type": "code",
   "execution_count": null,
   "id": "acc4be8a",
   "metadata": {},
   "outputs": [],
   "source": [
    "# Define the test and conditions\n",
    "\n",
    "test_command = \"<INSERT TEST COMMAND HERE>\"\n",
    "expected_result = \"<INSERT EXPECTED RESULT HERE>\"\n",
    "environment_variables = \"<INSERT REQUIRED VARIABLES IF APPLICABLE>\"\n",
    "\n",
    "def perform_test(command, expected_result):\n",
    "\n",
    "    execution_result, output = shelltest(command)\n",
    "\n",
    "    if output == expected_result:\n",
    "        # If test passes, add to the PASSES array \n",
    "        PASSES.append(\"<TEST NAME> PASSED\")\n",
    "    else:\n",
    "        # If test fails, add to the ERRORS array with error message\n",
    "        ERRORS.append(\"<TEST NAME> FAILED: \" + output)\n",
    "\n",
    "# Run test to verify success\n",
    "perform_test(test_command, expected_result)\n"
   ]
  },
  {
   "cell_type": "markdown",
   "id": "a8d020a5-d15a-4bb6-bc56-47bb6db2cb37",
   "metadata": {
    "tags": []
   },
   "source": [
    "Test Authors: Ross Mikulskis, Jonathan Mikalov, Yuxie Ge, Yiqin Zhang"
   ]
  }
 ],
 "metadata": {
  "kernelspec": {
   "display_name": "Python 3 (ipykernel)",
   "language": "python",
   "name": "python3"
  },
  "language_info": {
   "codemirror_mode": {
    "name": "ipython",
    "version": 3
   },
   "file_extension": ".py",
   "mimetype": "text/x-python",
   "name": "python",
   "nbconvert_exporter": "python",
   "pygments_lexer": "ipython3",
   "version": "3.10.13"
  }
 },
 "nbformat": 4,
 "nbformat_minor": 5
}
