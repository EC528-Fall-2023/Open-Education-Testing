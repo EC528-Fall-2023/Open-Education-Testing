{
 "cells": [
  {
   "cell_type": "markdown",
   "id": "792d4b1e-4f44-44c0-ad3f-19c1a8e8aa0f",
   "metadata": {},
   "source": [
    "# Jupytexmagic\n",
    "This is a python package for rendering LaTeX in Jupyter notebook with native \n",
    "rendering capabilities. Jupyter uses MathJax to render LaTeX inside of \n",
    "Markdown cells, which is fine for most use cases; however, this does not \n",
    "provide the full set of tools that LaTeX has to offer (e.g. tikzpictures,\n",
    "complex figures). What we want is the ability to write content using Jupyter\n",
    "for dynamic content while not sacrificing the beauty of native LaTeX.\n",
    "\n",
    "Here are a couple of links related to the project:\n",
    "- [Jupytexmagic GitHub repo](https://github.com/rkulskis/jupytex)\n",
    "- [Jupytexmagic PyPi module](https://pypi.org/project/jupytexmagic/)\n",
    "\n",
    "## How Does it Work?\n",
    "This is a custom ipython [magic plugin](https://ipython.readthedocs.io/en/stable/config/custommagics.html)\n",
    "which allows users to create a new code cell, placing `%%tex` at the top and \n",
    "then put all of their LaTeX source code afterwards. Running the cell compiles\n",
    "the code into `.svg` format which is displayed following the cell.\n",
    "\n",
    "Jupytex uses `pdflatex` to compile your cell's code into PDF format, then\n",
    "`pdfcrop` to crop the content, and `pdf2svg` to convert the PDF to `.svg`\n",
    "format. Then this is displayed using the IPython module. The compilation is\n",
    "fast, and has the upside of your LaTeX not needing to be rendered with\n",
    "Javascript when viewed on the web. \n",
    "\n",
    "The `.svg` format is great because it doesn't lose any definition upon\n",
    "zooming in on the compiled LaTeX and you can highlight text with your cursor,\n",
    "which you cannot do with normal image formats like PNG/JPEG.\n",
    "\n",
    "See the `Getting_Started` section of this chapter to see example runs!\n",
    "\n",
    "## Usage\n",
    "1. run `pip install jupytexmagic`\n",
    "2. create a new cell with `import jupytexmagic` and `%load_ext jupytexmagic`\n",
    "3. for tex cells, place `%%tex` at the top of your cell\n",
    "4. Currently the document class is standalone with variable height `\\documentclass[varwidth, margin=1in]{standalone}` and has page numbers turned off `\\pagenumbering{gobble}` but other than that, you can fully customize the output. This is needed so that the rendering of the svg is continous similar to how Jupyter renders markdown.\n",
    "\n",
    "If your tex compilation fails, you can use the `%%texdebug` magic command\n",
    "to display the output of `pdflatex` when compiling for debugging purposes.\n",
    "\n",
    "## Current Limitations\n",
    "\n",
    "For some reason, the compilation does not work properly with JupyterNotebook;\n",
    "however, it works just fine with JupyterLab. Currently uploading the source\n",
    "`.ipynb` files ruins the view on GitHub, but displaying and building inside\n",
    "a Jupyter Book works properly (see images attached in [example run screenshots](#Example Run Screenshots)\n",
    "\n",
    "Writing LaTeX that compiles to less than one line of text will be scaled to maximum width. \n",
    "This is a fair trade for having the output `svg` output be standardized for the majority of\n",
    "use cases.\n",
    "\n"
   ]
  },
  {
   "cell_type": "code",
   "execution_count": null,
   "id": "d2d23997-cd60-4c20-b43b-9a25fcb048a7",
   "metadata": {},
   "outputs": [],
   "source": []
  }
 ],
 "metadata": {
  "kernelspec": {
   "display_name": "Python 3 (ipykernel)",
   "language": "python",
   "name": "python3"
  },
  "language_info": {
   "codemirror_mode": {
    "name": "ipython",
    "version": 3
   },
   "file_extension": ".py",
   "mimetype": "text/x-python",
   "name": "python",
   "nbconvert_exporter": "python",
   "pygments_lexer": "ipython3",
   "version": "3.10.13"
  }
 },
 "nbformat": 4,
 "nbformat_minor": 5
}
