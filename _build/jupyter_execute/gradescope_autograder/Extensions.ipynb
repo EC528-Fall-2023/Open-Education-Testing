{
 "cells": [
  {
   "cell_type": "markdown",
   "id": "c8127f84-6227-4932-98da-dc745c2818e9",
   "metadata": {},
   "source": [
    "# Extensions\n",
    "## Current Limitations\n",
    "This feature is not yet production ready for two reasons:\n",
    "1. It doesn't scale to handle large volumes of concurrent requests (i.e. 1 VM cannot handle 100 students submitting right before the deadline)\n",
    "2. Currently we are storing the private key to the VM on the gradescope autograder, which is not fully secure.\n",
    "\n",
    "## Future Direction\n",
    "We want to address the problems listed above over the next month with two solutions. First, we plan to adapt the framework to use Red Hat Open Shift for spawning containers to serve autograding requests. \n",
    "\n",
    "## Addressing Security and Scale\n",
    "Currently, the framework has an online VM which spawns an OPE container in which to run the tests and `scp` results back to the gradescope container hosted on AWS. We plan to change this by having an OpenShift cluster VM open a port to listen for incoming gradescope requests. These request include a private key for the OpenShift cluster to use to `scp` state to and from the Gradescope container. This way the gradescope container doesn't have a private key to the cluster, but rather the other way around.\n",
    "\n",
    "If a request arrives with the proper certificate which is signed by a valid CA that this is a gradescope VM for the designated class (need to figure out how to have a class-level granularity), then OpenShift spawns the corresponding OPE container, runs the code, then sends the results back to the gradescope container.\n",
    "\n",
    "*Note: this is a brainstormed solution and still in the works! Something could be said about the risk of having a private key on a gradescope container; however, the default gradescope containers [already have some secuirty vulnerabilities](https://saligrama.io/blog/post/gradescope-autograder-security/).*"
   ]
  }
 ],
 "metadata": {
  "kernelspec": {
   "display_name": "Python 3 (ipykernel)",
   "language": "python",
   "name": "python3"
  },
  "language_info": {
   "codemirror_mode": {
    "name": "ipython",
    "version": 3
   },
   "file_extension": ".py",
   "mimetype": "text/x-python",
   "name": "python",
   "nbconvert_exporter": "python",
   "pygments_lexer": "ipython3",
   "version": "3.10.13"
  }
 },
 "nbformat": 4,
 "nbformat_minor": 5
}