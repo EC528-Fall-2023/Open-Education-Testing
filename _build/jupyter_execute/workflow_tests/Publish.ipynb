{
 "cells": [
  {
   "cell_type": "markdown",
   "id": "c8127f84-6227-4932-98da-dc745c2818e9",
   "metadata": {},
   "source": [
    "# Publish\n",
    "Having reached this phase, the `private build` of the image successfully passed all the tests and is ready for publishing to the public quay repo. The `Publish` github action tags the `private build` with the build time and size (which you can see in the `Size_and_time` action), then pushes the iamge to the public quay repo.\n",
    "## Actions Code\n",
    "![publish](images/publish.png)\n"
   ]
  },
  {
   "cell_type": "markdown",
   "id": "d680351f-fa6d-4ebd-b911-4c0cd4f5e179",
   "metadata": {},
   "source": [
    "## `make publish`\n",
    "This is the Makefile code containing the command `publish` which the `Publish` action calls (see line 394 in the above image).\n",
    "![make_publish](images/make_publish.png)"
   ]
  },
  {
   "cell_type": "code",
   "execution_count": null,
   "id": "f7a42dc1-af6c-4075-99a9-33edbf891427",
   "metadata": {},
   "outputs": [],
   "source": []
  }
 ],
 "metadata": {
  "kernelspec": {
   "display_name": "Python 3 (ipykernel)",
   "language": "python",
   "name": "python3"
  },
  "language_info": {
   "codemirror_mode": {
    "name": "ipython",
    "version": 3
   },
   "file_extension": ".py",
   "mimetype": "text/x-python",
   "name": "python",
   "nbconvert_exporter": "python",
   "pygments_lexer": "ipython3",
   "version": "3.10.13"
  }
 },
 "nbformat": 4,
 "nbformat_minor": 5
}