{
 "cells": [
  {
   "cell_type": "markdown",
   "id": "c8127f84-6227-4932-98da-dc745c2818e9",
   "metadata": {},
   "source": [
    "# Package_version\n",
    "\n",
    "This test checks if the frozen resolve specified in `tests/versions.txt` is a subset of `mamba list`. Mamba installs these packages as specified in `base/config.yml` during the `Setup-and-Build` stage of the workflow. The logic of the version checking is in `tests/version_check.py`\n",
    "\n",
    "If a package in `tests/versions.txt` is missing in the output of `mamba list` or there is a version mismatch, the test fails, causing the workflow to cancel, and the test prints the mismatched/missing packages. Otherwise the test passes and prints the matching packages."
   ]
  },
  {
   "cell_type": "markdown",
   "id": "23bd85e5-af95-4537-a340-46527673bbb0",
   "metadata": {
    "tags": []
   },
   "source": [
    "## Validating True Positive\n",
    "Here is an example of a run where the test passes properly."
   ]
  },
  {
   "cell_type": "markdown",
   "id": "0e6087af-bee9-4d0b-82a3-f43dd8c3b58a",
   "metadata": {
    "tags": []
   },
   "source": [
    "![package_v](images/package_v.png)"
   ]
  },
  {
   "cell_type": "markdown",
   "id": "f35ed228-1af7-4e8a-9557-2358476fdc63",
   "metadata": {
    "tags": []
   },
   "source": [
    "## Validating Proper Negative\n",
    "Here is an example where the test fails since we removed `jupyterlab-myst` from `base/config.yml` causing it to be missing from `mamba list` even though it's expected by `tests/versions.txt`.\n",
    "![failed_pv.png](images/failed_pv.png)"
   ]
  },
  {
   "cell_type": "code",
   "execution_count": null,
   "id": "c0e1dc2e-e515-44bf-8e0c-807de3b28f42",
   "metadata": {},
   "outputs": [],
   "source": []
  }
 ],
 "metadata": {
  "kernelspec": {
   "display_name": "Python 3 (ipykernel)",
   "language": "python",
   "name": "python3"
  },
  "language_info": {
   "codemirror_mode": {
    "name": "ipython",
    "version": 3
   },
   "file_extension": ".py",
   "mimetype": "text/x-python",
   "name": "python",
   "nbconvert_exporter": "python",
   "pygments_lexer": "ipython3",
   "version": "3.10.13"
  }
 },
 "nbformat": 4,
 "nbformat_minor": 5
}
