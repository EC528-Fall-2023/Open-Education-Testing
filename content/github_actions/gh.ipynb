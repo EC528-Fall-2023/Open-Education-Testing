{
 "cells": [
  {
   "cell_type": "markdown",
   "id": "c20bffe2-d852-4b42-9c80-e43dbe8ebc45",
   "metadata": {},
   "source": [
    "# Setting up Github Actions and Quay.io"
   ]
  },
  {
   "cell_type": "markdown",
   "id": "5942212f-37f3-418e-b3cb-d852552e32cc",
   "metadata": {},
   "source": [
    "Using the official OPE tool, you can easily create, update, manage, and publish OPE projects from the command line. Follow the instructions to install this tool [here](https://github.com/OPEFFORT/tools).\n",
    "\n",
    "1. In your github, create a new fork of [OPEEFFORT testing repository](https://github.com/OPEFFORT/OPE-Testing/tree/container-base-ope)\n",
    "\n",
    "2. Go to your fork and click on settings. Set ‘container-base-ope’ as the default branch\n",
    "\n",
    "3. Log in to your quay.io and link your quay.io with your Github account\n",
    "\n",
    "4. Create a new repo in quay.io.\n",
    "\n",
    "5. Enter your repo name, select “public”, select “Link to a GitHub Repository Push”, then click on “Create”\n",
    "\n",
    "6. Then select your name in the organization section, select OPE-Testing in the Select Repository section\n",
    "Select Trigger only on branches and tags matching a regular expression in Configure Trigger section\n",
    "Select Tag manifest with the branch or tag name and Add latest tag if on default branch in the Configure Tagging section\n",
    "Select location of Dockerfile to build when trigger is involed, ex: /base/Dockerfile. Make sure to double-check that “container-base-ope” is your default branch\n",
    "If setup is succesful, you should see a Ready to go! page\n",
    "\n",
    "7. CLick continue, Quay.io will generate a SSH key. You don’t have to do anything. Quay.io will automatically set up in your GitHub repo\n",
    "Let’s go back to the Github Repository you just forked. Under base folder, change the following file to your information:\n",
    "(1) ope-book -> This is your quay.io repo name\n",
    "(2) ope_book_user -> this is your quay.io account name\n",
    "(3) ope_registry_user -> this is also your quay.io account name\n",
    "(4) Dockerfile: make sure you copy from\n",
    "https://github.com/kevinge7/OPE-Testing/blob/container-base-ope/base/Dockerfile\n",
    "Under .github/workflows folder: make sure you copy from https://github.com/kevinge7/OPE-Testing/blob/container-base-ope/.github/workflows/Master_Container_Test.yaml\n",
    "Now copy everything in Master_container_test.yaml paste the into Github Action.\n",
    "8. Now in your forked repo, go to settings, and click on the Actions tab in the left sidebar\n",
    "Create your secrets: The variable name should be exactly the same as the  picture shows. The value should be your quay.io account name and the password you use to log in to quay.io.\n",
    "ALL DONE! Now you can run your Github Action\n",

    
     

    "\n",
    "\n",
    "                                             \n",
    "                           \n",
    "                            \n",
    "                  \n",
    "                          \n",
    "                                                   \n",
    "                                                     \n",
    "\n"
   ]
  }
 ],
 "metadata": {
  "kernelspec": {
   "display_name": "Python 3 (ipykernel)",
   "language": "python",
   "name": "python3"
  },
  "language_info": {
   "codemirror_mode": {
    "name": "ipython",
    "version": 3
   },
   "file_extension": ".py",
   "mimetype": "text/x-python",
   "name": "python",
   "nbconvert_exporter": "python",
   "pygments_lexer": "ipython3",
   "version": "3.10.5"
  }
 },
 "nbformat": 4,
 "nbformat_minor": 5
}
