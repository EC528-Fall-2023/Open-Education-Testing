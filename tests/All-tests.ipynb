{
 "cells": [
  {
   "cell_type": "code",
   "execution_count": 1,
   "id": "43a443ef",
   "metadata": {
    "tags": []
   },
   "outputs": [],
   "source": [
    "import subprocess\n",
    "\n",
    "# function to execute shell commands (this is for convenience)\n",
    "def runshell(CMD):\n",
    "    global ERRORS\n",
    "    try:\n",
    "        result = subprocess.check_output(CMD, shell=True, stderr=subprocess.STDOUT)\n",
    "        return 0, result.decode('utf-8')\n",
    "    except subprocess.CalledProcessError as e:\n",
    "        return e.returncode, e.output.decode('utf-8')\n",
    "    except Exception as e:  # new add: handle exceptions \n",
    "        return -1, str(e)"
   ]
  },
  {
   "cell_type": "markdown",
   "id": "29b8269d-09d6-48c0-86bb-0d4e96827325",
   "metadata": {
    "user_expressions": []
   },
   "source": [
    "### Write Permission to Home Directory Test"
   ]
  },
  {
   "cell_type": "code",
   "execution_count": 55,
   "id": "420d81be-46f8-4c72-b2e3-e52b3774ee09",
   "metadata": {
    "tags": []
   },
   "outputs": [],
   "source": [
    "\n",
    "# Test to check write permissions to home directory\n",
    "def WritePermissionTest():\n",
    "\n",
    "    TEST = \"WRITE PERMISSION TO HOME DIRECTORY\"\n",
    "    CMD = f\"touch {os.path.expanduser('~')}/test_write_permissions.tmp && echo 'Write Permission: Yes' && rm {os.path.expanduser('~')}/test_write_permissions.tmp || echo 'Write Permission: No'\"\n",
    "\n",
    "    e, output = runshell(CMD)\n",
    "\n",
    "    if e == 0:\n",
    "        PASSES.append(\"Write Permission to Home Directory test\")\n",
    "\n",
    "    else:\n",
    "        ERRORS.append(output)\n"
   ]
  },
  {
   "cell_type": "markdown",
   "id": "aae958c2-b873-416f-83f5-460ed78877e7",
   "metadata": {
    "user_expressions": []
   },
   "source": [
    "### Environmental Variables test"
   ]
  },
  {
   "cell_type": "code",
   "execution_count": 53,
   "id": "2cb52918-b1c4-4b4b-b8ae-bd2298717380",
   "metadata": {
    "tags": []
   },
   "outputs": [],
   "source": [
    "#Verify environment variables are correct\n",
    "\n",
    "def check_environment_test():\n",
    "    \n",
    "    NB_UID = int(os.environ['NB_UID'])\n",
    "    NB_GID = int(os.environ['NB_GID'])\n",
    "    NB_GROUP = os.environ['NB_GROUP']\n",
    "    NB_USER = os.environ['NB_USER']\n",
    "\n",
    "    XDG_CACHE_HOME = f\"/home/{NB_USER}/.cache/\"\n",
    "\n",
    "    UID_LOWER_BOUND = 1000  \n",
    "    UID_UPPER_BOUND = 1000810001 \n",
    "\n",
    "    GID_LOWER_BOUND = 0  \n",
    "    GID_UPPER_BOUND = 10000 \n",
    "\n",
    "    EXPECTED_NB_GROUP = 'root'\n",
    "\n",
    "    err = []    \n",
    "    \n",
    "    if not (UID_LOWER_BOUND <= NB_UID <= UID_UPPER_BOUND):\n",
    "         err.append(f\"NB_UID {NB_UID} is not within the acceptable range: {UID_LOWER_BOUND}-{UID_UPPER_BOUND}.\")\n",
    "         err.append(\"Acceptable ranges can be modified within: \" + os.getcwd()) \n",
    "\n",
    "    if not (GID_LOWER_BOUND <= NB_GID <= GID_UPPER_BOUND):\n",
    "         err.append(f\"NB_GID {NB_GID} is not within the acceptable range: {GID_LOWER_BOUND}-{GID_UPPER_BOUND}.\")\n",
    "         err.append(\"Acceptable ranges can be modified within: \" + os.getcwd())              \n",
    "            \n",
    "    if  NB_GROUP != EXPECTED_NB_GROUP:\n",
    "         err.append(\"NB_GROUP does not match \" + \"'\" + EXPECTED_NB_GROUP + \"'\")\n",
    "\n",
    "    if NB_USER != 'jovyan':\n",
    "         err.append(\"NB_USER does not match 'jovyan'.\")\n",
    "\n",
    "    if XDG_CACHE_HOME != '/home/jovyan/.cache/':\n",
    "         err.append(\"XDD_CACHE_HOME does not match expected path: /home/jovyan/.cache/\")\n",
    "\n",
    "    s = '\\n '.join(err)\n",
    "    if not s: # no errors\n",
    "        PASSES.append(\"Environmental Variables test\")\n",
    "    else:\n",
    "        ERRORS.append(f\"Environmental Variables test:\\n {s}\")\n",
    "       "
   ]
  },
  {
   "cell_type": "markdown",
   "id": "4160fec2",
   "metadata": {
    "user_expressions": []
   },
   "source": [
    "### ASLR Test"
   ]
  },
  {
   "cell_type": "code",
   "execution_count": 18,
   "id": "b6dd6c03",
   "metadata": {
    "tags": []
   },
   "outputs": [],
   "source": [
    "# run gdb 100 times on date binary stopping at first instruction and grep ld. If ld is found at same address (following \n",
    "# command has a value of 1 then ASLR is properly disabled.\n",
    "# We want to disable ASLR so that students can use GDB properly in their environments.\n",
    "def ASLRtest():\n",
    "    e, count = runshell(\"echo $(for ((i=0;i<100; i++)); do gdb -ex starti -ex quit -q --batch /usr/bin/date 2>/dev/null | grep ld; done | tee out | uniq | wc -l)\")\n",
    "    if count == 1: \n",
    "        PASSES.append(\"ASLR test\")\n",
    "    else:\n",
    "        e2, output2 = runshell(\"echo $(cat /proc/sys/kernel/randomize_va_space)\")\n",
    "        ERRORS.append(f\"ASLR test ERROR: ASLR status is enabled with status {output2[0]} (0 is disabled, 1 is partial and 2 is full)\")"
   ]
  },
  {
   "cell_type": "markdown",
   "id": "b10a8581-6a85-46ac-9434-dd5fd09f361a",
   "metadata": {
    "user_expressions": []
   },
   "source": [
    "### Network Test"
   ]
  },
  {
   "cell_type": "code",
   "execution_count": 20,
   "id": "596d4b84-8366-44c4-833f-3f04fbb521a8",
   "metadata": {
    "tags": []
   },
   "outputs": [],
   "source": [
    "# Curl test to check internet connectivity\n",
    "def NetworkTest():\n",
    "    e, output = runshell(\"curl google.com\")\n",
    "    if e == 0:\n",
    "        PASSES.append(\"Network test\")\n",
    "    else:\n",
    "        ERRORS.append(\"Network test ERROR: \" + output)"
   ]
  },
  {
   "cell_type": "markdown",
   "id": "97e1fb29-4eaa-465a-8780-2d7a8a4e9721",
   "metadata": {
    "user_expressions": []
   },
   "source": [
    "### Pip-Conda Test"
   ]
  },
  {
   "cell_type": "code",
   "execution_count": 11,
   "id": "14741788-0eb4-4032-a915-d49305ef8b25",
   "metadata": {
    "tags": []
   },
   "outputs": [],
   "source": [
    "def PipCondaTest():\n",
    "    TEST = \"PIP PACKAGE INSTALLATION\"\n",
    "    CMD = \"pip install --user pytest\"\n",
    "    e, output = runshell(CMD)\n",
    "\n",
    "    if e == 0:\n",
    "        PASSES.append(\"Pip-Conda test\")\n",
    "    else:\n",
    "        ERRORS.append(\"Pip-Conda test: \" + output)"
   ]
  },
  {
   "cell_type": "markdown",
   "id": "095538b9-912b-4ed9-9e69-f2db7f8c87df",
   "metadata": {
    "tags": [],
    "user_expressions": []
   },
   "source": [
    "### Git and SSH Test"
   ]
  },
  {
   "cell_type": "code",
   "execution_count": 54,
   "id": "87d00fc1-092d-467f-9760-18b536cab586",
   "metadata": {
    "tags": []
   },
   "outputs": [],
   "source": [
    "def GitSSHTest():\n",
    "\n",
    "    e, output = runshell(\"readlink -f ~/.gitconfig\")\n",
    "\n",
    "    if e == 0:\n",
    "        PASSES.append(\"Git config test\")\n",
    "    else:\n",
    "        ERRORS.append(\"Git config test:\" + output)\n",
    "\n",
    "    e, output = runshell(\"readlink -f /etc/ssh/ssh_config\")\n",
    "\n",
    "    if e == 0:\n",
    "        PASSES.append(\"ssh config test\")\n",
    "\n",
    "    else:\n",
    "        ERRORS.append(\"ssh config test:\" + output)\n"
   ]
  },
  {
   "cell_type": "markdown",
   "id": "43e44066-ddeb-48b8-a74c-ac010070fbcb",
   "metadata": {
    "user_expressions": []
   },
   "source": [
    "### Conda Directory Test"
   ]
  },
  {
   "cell_type": "code",
   "execution_count": 51,
   "id": "f39267bc-fdcc-46ba-984f-84c1c4f87a7d",
   "metadata": {
    "tags": []
   },
   "outputs": [],
   "source": [
    "\"\"\"Check if a directory is readable and writable.\"\"\"\n",
    "def check_permissions():\n",
    "    \n",
    "    #Identify conda directories\n",
    "\n",
    "    conda_base_dir = os.path.abspath(os.path.join(os.path.dirname(os.sys.executable), \"..\"))\n",
    "    conda_env_dir = os.environ.get('CONDA_PREFIX', '')\n",
    "\n",
    "    unaccessible_dirs = 0    \n",
    "    \n",
    "    for dir_name, dir_path in [('Conda Base Directory', conda_base_dir), ('Conda Environment Directory', conda_env_dir)]:\n",
    "        try:\n",
    "            readable = os.access(dir_path, os.R_OK)\n",
    "            writable = os.access(dir_path, os.W_OK)\n",
    "            if not (readable and writable):\n",
    "                unaccessible_dirs += 1\n",
    "                ERRORS.append(f\"Conda Directory test ERROR: {dir_name} at '{dir_path}' is not readable/writable\")\n",
    "        except Exception as e:\n",
    "            ERRORS.append(f\"Conda Directory test ERROR: Error checking permissions for {dir_name} at {dir_path}: {e}\")\n",
    "            unaccessible_dirs += 1\n",
    "\n",
    "    if unaccessible_dirs == 0:\n",
    "        PASSES.append(\"Conda directory r/w test passed\")\n"
   ]
  },
  {
   "cell_type": "markdown",
   "metadata": {},
   "source": [
    "### Running the tests"
   ]
  },
  {
   "cell_type": "code",
   "execution_count": null,
   "id": "52528d0e-1b7b-4565-a4a6-a47eba0086b7",
   "metadata": {
    "tags": []
   },
   "outputs": [],
   "source": [
    "import os\n",
    "\n",
    "# global var to keep track of test results we have\n",
    "ERRORS = []\n",
    "PASSES = []\n",
    "\n",
    "\n",
    "#Run the tests\n",
    "\n",
    "WritePermissionTest()\n",
    "check_environment_test()\n",
    "ASLRtest()\n",
    "NetworkTest()\n",
    "GitSSHTest()\n",
    "check_permissions()\n",
    "\n",
    "#Print the results\n",
    "if len(ERRORS) > 0:\n",
    "    print(\"FAILED TESTS:\")\n",
    "    print('-' + '\\n-'.join(ERRORS))\n",
    "    print('\\n')\n",
    "    print(\"PASSED TESTS:\")\n",
    "    print('-' + '\\n-'.join(PASSES))\n",
    "else:\n",
    "    print(\"ALL TESTS PASS\")\n",
    "    print('-' + '\\n-'.join(PASSES))"
   ]
  }
 ],
 "metadata": {
  "kernelspec": {
   "display_name": "Python 3 (ipykernel)",
   "language": "python",
   "name": "python3"
  },
  "language_info": {
   "codemirror_mode": {
    "name": "ipython",
    "version": 3
   },
   "file_extension": ".py",
   "mimetype": "text/x-python",
   "name": "python",
   "nbconvert_exporter": "python",
   "pygments_lexer": "ipython3",
   "version": "3.9.16"
  }
 },
 "nbformat": 4,
 "nbformat_minor": 5
}
