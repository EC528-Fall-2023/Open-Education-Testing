{
 "cells": [
  {
   "cell_type": "code",
   "execution_count": 41,
   "id": "65d91db5-b65d-4dd0-8846-f754bea4a66d",
   "metadata": {},
   "outputs": [
    {
     "name": "stdout",
     "output_type": "stream",
     "text": [
      "Match\n"
     ]
    }
   ],
   "source": [
    "import os\n",
    "real_uid = os.getuid()\n",
    "notebook_uid = !id -u\n",
    "\n",
    "real_gid = os.getgid()\n",
    "notebook_gid = !id -g\n",
    "\n",
    "if real_uid != int(notebook_uid[0]) or real_gid != int(notebook_gid[0]):\n",
    "    print(\"No match\")\n",
    "    print(real_uid, notebook_uid, real_gid, notebook_gid)\n",
    "else:\n",
    "    print(\"Match\")"
   ]
  },
  {
   "cell_type": "code",
   "execution_count": 42,
   "id": "9f452e94-7c84-4514-b352-bbd416a5bfa1",
   "metadata": {},
   "outputs": [],
   "source": [
    "OPE_UID = os.environ['OPE_UID']\n",
    "OPE_GID = os.environ['OPE_GID']\n",
    "OPE_GROUP = os.environ['OPE_GROUP']\n",
    "NB_GROUP = os.environ['NB_GROUP'] \n",
    "NB_USER = os.environ['NB_USER']\n",
    "XDG_CACHE_HOME = f\"/home/{NB_USER}/.cache/\"\n"
   ]
  },
  {
   "cell_type": "code",
   "execution_count": 76,
   "id": "b65090de-c8ac-4c04-bfc3-0c7f4aa75e05",
   "metadata": {},
   "outputs": [],
   "source": [
    "notebook_uid = !id -u\n",
    "notebook_gid = !id -g\n",
    "\n",
    "if int(notebook_uid[0]) != int(OPE_UID) or int(notebook_gid[0]) != int(OPE_GID):\n",
    "    print(0)\n",
    "\n",
    "    \n",
    "if OPE_GROUP != 'root' or NB_GROUP != 'root':\n",
    "    print(0)\n",
    "    \n",
    "if NB_USER != 'jovyan':\n",
    "    print(0)\n",
    "\n",
    "if XDG_CACHE_HOME != '/home/jovyan/.cache/':\n",
    "    print(0)"
   ]
  }
 ],
 "metadata": {
  "kernelspec": {
   "display_name": "Python 3 (ipykernel)",
   "language": "python",
   "name": "python3"
  },
  "language_info": {
   "codemirror_mode": {
    "name": "ipython",
    "version": 3
   },
   "file_extension": ".py",
   "mimetype": "text/x-python",
   "name": "python",
   "nbconvert_exporter": "python",
   "pygments_lexer": "ipython3",
   "version": "3.9.16"
  }
 },
 "nbformat": 4,
 "nbformat_minor": 5
}
