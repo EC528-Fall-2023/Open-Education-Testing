{
 "cells": [
  {
   "cell_type": "code",
   "execution_count": 41,
   "id": "65d91db5-b65d-4dd0-8846-f754bea4a66d",
   "metadata": {},
   "outputs": [
    {
     "name": "stdout",
     "output_type": "stream",
     "text": [
      "Match\n"
     ]
    }
   ],
   "source": [
    "import os\n",
    "\n",
    "#Compare UID and GID from Operating System and notebook, make sure they match\n",
    "real_uid = os.getuid()\n",
    "notebook_uid = !id -u\n",
    "\n",
    "real_gid = os.getgid()\n",
    "notebook_gid = !id -g\n",
    "\n",
    "if real_uid != int(notebook_uid[0]) or real_gid != int(notebook_gid[0]):\n",
    "    print(\"No match\")\n",
    "    print(real_uid, notebook_uid, real_gid, notebook_gid)\n",
    "else:\n",
    "    print(\"Match\")"
   ]
  },
  {
   "cell_type": "code",
   "execution_count": null,
   "id": "9f452e94-7c84-4514-b352-bbd416a5bfa1",
   "metadata": {},
   "outputs": [],
   "source": [
    "#Load environment variables from system into python\n",
    "\n",
    "OPE_UID = os.environ['OPE_UID']\n",
    "OPE_GID = os.environ['OPE_GID']\n",
    "OPE_GROUP = os.environ['OPE_GROUP']\n",
    "NB_GROUP = os.environ['NB_GROUP'] \n",
    "NB_USER = os.environ['NB_USER']\n",
    "XDG_CACHE_HOME = f\"/home/{NB_USER}/.cache/\"\n"
   ]
  },
  {
   "cell_type": "code",
   "execution_count": null,
   "id": "b65090de-c8ac-4c04-bfc3-0c7f4aa75e05",
   "metadata": {},
   "outputs": [],
   "source": [
    "#Verify environment variables are correct\n",
    "notebook_uid = !id -u\n",
    "notebook_gid = !id -g\n",
    "\n",
    "if int(notebook_uid[0]) != int(OPE_UID) or int(notebook_gid[0]) != int(OPE_GID):\n",
    "    raise ValueError(\"Notebook UID or GID does not meet expected values.\")\n",
    "\n",
    "    \n",
    "if OPE_GROUP != 'root' or NB_GROUP != 'root':\n",
    "    raise ValueError(\"OPE_GROUP Or NB_GROUP does not match 'root'.\")\n",
    "\n",
    "if NB_USER != 'jovyan':\n",
    "    raise ValueError(\"NB_USER does not match 'jovyan'.\")\n",
    "\n",
    "if XDG_CACHE_HOME != '/home/jovyan/.cache/':\n",
    "    raise ValueError(\"XDD_CACHE_HOME does not match expected path.\")"
   ]
  },
  {
   "cell_type": "code",
   "execution_count": 1,
   "id": "78034df9-b738-4eaf-bbb0-6aa98382fcd6",
   "metadata": {},
   "outputs": [
    {
     "name": "stderr",
     "output_type": "stream",
     "text": [
      "cat: /proc/sys/kernel/randomize_va_space: No such file or directory\n"
     ]
    },
    {
     "name": "stdout",
     "output_type": "stream",
     "text": [
      "ASLR test: ASLR is disabled\n"
     ]
    },
    {
     "name": "stderr",
     "output_type": "stream",
     "text": [
      "bash: line 15: raise: command not found\n"
     ]
    },
    {
     "ename": "CalledProcessError",
     "evalue": "Command 'b'# ASLR test: run gdb 100 times on date binary stopping at first instruction and grep ld. If ld is found at same address then ASLR is properly disabled.\\n# We want to disable ASLR so that students can use GDB properly in their environments.\\ncount=$(for ((i=0;i<100; i++)); do gdb -ex starti -ex quit -q --batch /usr/bin/date 2>/dev/null | grep ld; done | tee out | uniq | wc -l)\\nif [[ $count == 1 ]]; then\\n    echo \"ASLR test: ASLR is disabled\"\\nelse\\n    aslr_status=$(cat /proc/sys/kernel/randomize_va_space)\\n    if [[ $aslr_status == 2 ]]; then\\n        echo \"ASLR test: ERROR: Full ASLR is enabled\"\\n    elif [[ $aslr_status == 1 ]]; then\\n        echo \"ASLR test: ERROR: Partial ASLR is enabled\"\\n    else\\n        echo \"ASLR test: ASLR is disabled\"\\n    fi\\n    raise 1\\nfi\\n'' returned non-zero exit status 127.",
     "output_type": "error",
     "traceback": [
      "\u001b[0;31m---------------------------------------------------------------------------\u001b[0m",
      "\u001b[0;31mCalledProcessError\u001b[0m                        Traceback (most recent call last)",
      "Cell \u001b[0;32mIn[1], line 1\u001b[0m\n\u001b[0;32m----> 1\u001b[0m get_ipython()\u001b[39m.\u001b[39;49mrun_cell_magic(\u001b[39m'\u001b[39;49m\u001b[39mbash\u001b[39;49m\u001b[39m'\u001b[39;49m, \u001b[39m'\u001b[39;49m\u001b[39m'\u001b[39;49m, \u001b[39m'\u001b[39;49m\u001b[39m# ASLR test: run gdb 100 times on date binary stopping at first instruction and grep ld. If ld is found at same address then ASLR is properly disabled.\u001b[39;49m\u001b[39m\\n\u001b[39;49;00m\u001b[39m# We want to disable ASLR so that students can use GDB properly in their environments.\u001b[39;49m\u001b[39m\\n\u001b[39;49;00m\u001b[39mcount=$(for ((i=0;i<100; i++)); do gdb -ex starti -ex quit -q --batch /usr/bin/date 2>/dev/null | grep ld; done | tee out | uniq | wc -l)\u001b[39;49m\u001b[39m\\n\u001b[39;49;00m\u001b[39mif [[ $count == 1 ]]; then\u001b[39;49m\u001b[39m\\n\u001b[39;49;00m\u001b[39m    echo \u001b[39;49m\u001b[39m\"\u001b[39;49m\u001b[39mASLR test: ASLR is disabled\u001b[39;49m\u001b[39m\"\u001b[39;49m\u001b[39m\\n\u001b[39;49;00m\u001b[39melse\u001b[39;49m\u001b[39m\\n\u001b[39;49;00m\u001b[39m    aslr_status=$(cat /proc/sys/kernel/randomize_va_space)\u001b[39;49m\u001b[39m\\n\u001b[39;49;00m\u001b[39m    if [[ $aslr_status == 2 ]]; then\u001b[39;49m\u001b[39m\\n\u001b[39;49;00m\u001b[39m        echo \u001b[39;49m\u001b[39m\"\u001b[39;49m\u001b[39mASLR test: ERROR: Full ASLR is enabled\u001b[39;49m\u001b[39m\"\u001b[39;49m\u001b[39m\\n\u001b[39;49;00m\u001b[39m    elif [[ $aslr_status == 1 ]]; then\u001b[39;49m\u001b[39m\\n\u001b[39;49;00m\u001b[39m        echo \u001b[39;49m\u001b[39m\"\u001b[39;49m\u001b[39mASLR test: ERROR: Partial ASLR is enabled\u001b[39;49m\u001b[39m\"\u001b[39;49m\u001b[39m\\n\u001b[39;49;00m\u001b[39m    else\u001b[39;49m\u001b[39m\\n\u001b[39;49;00m\u001b[39m        echo \u001b[39;49m\u001b[39m\"\u001b[39;49m\u001b[39mASLR test: ASLR is disabled\u001b[39;49m\u001b[39m\"\u001b[39;49m\u001b[39m\\n\u001b[39;49;00m\u001b[39m    fi\u001b[39;49m\u001b[39m\\n\u001b[39;49;00m\u001b[39m    raise 1\u001b[39;49m\u001b[39m\\n\u001b[39;49;00m\u001b[39mfi\u001b[39;49m\u001b[39m\\n\u001b[39;49;00m\u001b[39m'\u001b[39;49m)\n",
      "File \u001b[0;32m/opt/homebrew/lib/python3.11/site-packages/IPython/core/interactiveshell.py:2475\u001b[0m, in \u001b[0;36mInteractiveShell.run_cell_magic\u001b[0;34m(self, magic_name, line, cell)\u001b[0m\n\u001b[1;32m   2473\u001b[0m \u001b[39mwith\u001b[39;00m \u001b[39mself\u001b[39m\u001b[39m.\u001b[39mbuiltin_trap:\n\u001b[1;32m   2474\u001b[0m     args \u001b[39m=\u001b[39m (magic_arg_s, cell)\n\u001b[0;32m-> 2475\u001b[0m     result \u001b[39m=\u001b[39m fn(\u001b[39m*\u001b[39;49margs, \u001b[39m*\u001b[39;49m\u001b[39m*\u001b[39;49mkwargs)\n\u001b[1;32m   2477\u001b[0m \u001b[39m# The code below prevents the output from being displayed\u001b[39;00m\n\u001b[1;32m   2478\u001b[0m \u001b[39m# when using magics with decodator @output_can_be_silenced\u001b[39;00m\n\u001b[1;32m   2479\u001b[0m \u001b[39m# when the last Python token in the expression is a ';'.\u001b[39;00m\n\u001b[1;32m   2480\u001b[0m \u001b[39mif\u001b[39;00m \u001b[39mgetattr\u001b[39m(fn, magic\u001b[39m.\u001b[39mMAGIC_OUTPUT_CAN_BE_SILENCED, \u001b[39mFalse\u001b[39;00m):\n",
      "File \u001b[0;32m/opt/homebrew/lib/python3.11/site-packages/IPython/core/magics/script.py:153\u001b[0m, in \u001b[0;36mScriptMagics._make_script_magic.<locals>.named_script_magic\u001b[0;34m(line, cell)\u001b[0m\n\u001b[1;32m    151\u001b[0m \u001b[39melse\u001b[39;00m:\n\u001b[1;32m    152\u001b[0m     line \u001b[39m=\u001b[39m script\n\u001b[0;32m--> 153\u001b[0m \u001b[39mreturn\u001b[39;00m \u001b[39mself\u001b[39;49m\u001b[39m.\u001b[39;49mshebang(line, cell)\n",
      "File \u001b[0;32m/opt/homebrew/lib/python3.11/site-packages/IPython/core/magics/script.py:305\u001b[0m, in \u001b[0;36mScriptMagics.shebang\u001b[0;34m(self, line, cell)\u001b[0m\n\u001b[1;32m    300\u001b[0m \u001b[39mif\u001b[39;00m args\u001b[39m.\u001b[39mraise_error \u001b[39mand\u001b[39;00m p\u001b[39m.\u001b[39mreturncode \u001b[39m!=\u001b[39m \u001b[39m0\u001b[39m:\n\u001b[1;32m    301\u001b[0m     \u001b[39m# If we get here and p.returncode is still None, we must have\u001b[39;00m\n\u001b[1;32m    302\u001b[0m     \u001b[39m# killed it but not yet seen its return code. We don't wait for it,\u001b[39;00m\n\u001b[1;32m    303\u001b[0m     \u001b[39m# in case it's stuck in uninterruptible sleep. -9 = SIGKILL\u001b[39;00m\n\u001b[1;32m    304\u001b[0m     rc \u001b[39m=\u001b[39m p\u001b[39m.\u001b[39mreturncode \u001b[39mor\u001b[39;00m \u001b[39m-\u001b[39m\u001b[39m9\u001b[39m\n\u001b[0;32m--> 305\u001b[0m     \u001b[39mraise\u001b[39;00m CalledProcessError(rc, cell)\n",
      "\u001b[0;31mCalledProcessError\u001b[0m: Command 'b'# ASLR test: run gdb 100 times on date binary stopping at first instruction and grep ld. If ld is found at same address then ASLR is properly disabled.\\n# We want to disable ASLR so that students can use GDB properly in their environments.\\ncount=$(for ((i=0;i<100; i++)); do gdb -ex starti -ex quit -q --batch /usr/bin/date 2>/dev/null | grep ld; done | tee out | uniq | wc -l)\\nif [[ $count == 1 ]]; then\\n    echo \"ASLR test: ASLR is disabled\"\\nelse\\n    aslr_status=$(cat /proc/sys/kernel/randomize_va_space)\\n    if [[ $aslr_status == 2 ]]; then\\n        echo \"ASLR test: ERROR: Full ASLR is enabled\"\\n    elif [[ $aslr_status == 1 ]]; then\\n        echo \"ASLR test: ERROR: Partial ASLR is enabled\"\\n    else\\n        echo \"ASLR test: ASLR is disabled\"\\n    fi\\n    raise 1\\nfi\\n'' returned non-zero exit status 127."
     ]
    }
   ],
   "source": [
    "%%bash\n",
    "# ASLR test: run gdb 100 times on date binary stopping at first instruction and grep ld. If ld is found at same address then ASLR is properly disabled.\n",
    "# We want to disable ASLR so that students can use GDB properly in their environments.\n",
    "count=$(for ((i=0;i<100; i++)); do gdb -ex starti -ex quit -q --batch /usr/bin/date 2>/dev/null | grep ld; done | tee out | uniq | wc -l)\n",
    "if [[ $count == 1 ]]; then\n",
    "    echo \"ASLR test: ASLR is disabled\"\n",
    "else\n",
    "    aslr_status=$(cat /proc/sys/kernel/randomize_va_space)\n",
    "    if [[ $aslr_status == 2 ]]; then\n",
    "        echo \"ASLR test: ERROR: Full ASLR is enabled\"\n",
    "    elif [[ $aslr_status == 1 ]]; then\n",
    "        echo \"ASLR test: ERROR: Partial ASLR is enabled\"\n",
    "    else\n",
    "        echo \"ASLR test: ASLR is disabled\"\n",
    "    fi\n",
    "fi"
   ]
  },
  {
   "cell_type": "code",
   "execution_count": null,
   "id": "af77ca39-5c75-4836-a009-babf5ed7e51e",
   "metadata": {},
   "outputs": [],
   "source": [
    "%%bash\n",
    "# Ping test to check internet connectivity\n",
    "ping -c 3 google.com > /dev/null 2>&1\n",
    "# if zero exit code from above command, ping is successful\n",
    "if [[ $? == 0 ]]; then\n",
    "    echo \"Ping test: OK: Internet connection is working.\"\n",
    "else\n",
    "    echo \"Ping test: ERROR: Internet connection is not working.\"\n",
    "fi"
   ]
  }
 ],
 "metadata": {
  "kernelspec": {
   "display_name": "Python 3 (ipykernel)",
   "language": "python",
   "name": "python3"
  },
  "language_info": {
   "codemirror_mode": {
    "name": "ipython",
    "version": 3
   },
   "file_extension": ".py",
   "mimetype": "text/x-python",
   "name": "python",
   "nbconvert_exporter": "python",
   "pygments_lexer": "ipython3",
   "version": "3.11.6"
  }
 },
 "nbformat": 4,
 "nbformat_minor": 5
}
