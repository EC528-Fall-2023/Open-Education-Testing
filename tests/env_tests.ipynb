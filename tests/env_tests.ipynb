{
 "cells": [
  {
   "cell_type": "code",
   "execution_count": 41,
   "id": "65d91db5-b65d-4dd0-8846-f754bea4a66d",
   "metadata": {},
   "outputs": [
    {
     "name": "stdout",
     "output_type": "stream",
     "text": [
      "Match\n"
     ]
    }
   ],
   "source": [
    "import os\n",
    "\n",
    "#Compare UID and GID from Operating System and notebook, make sure they match\n",
    "real_uid = os.getuid()\n",
    "notebook_uid = !id -u\n",
    "\n",
    "real_gid = os.getgid()\n",
    "notebook_gid = !id -g\n",
    "\n",
    "if real_uid != int(notebook_uid[0]) or real_gid != int(notebook_gid[0]):\n",
    "    print(\"No match\")\n",
    "    print(real_uid, notebook_uid, real_gid, notebook_gid)\n",
    "else:\n",
    "    print(\"Match\")"
   ]
  },
  {
   "cell_type": "code",
   "execution_count": null,
   "id": "78034df9-b738-4eaf-bbb0-6aa98382fcd6",
   "metadata": {},
   "outputs": [],
   "source": [
    "%%bash\n",
    "# ASLR test: run gdb 100 times on date binary stopping at first instruction and grep ld. If ld is found at same address then ASLR\n",
    "# is working properly\n",
    "count=$(for ((i=0;i<100; i++)); do gdb -ex starti -ex quit -q --batch /usr/bin/date 2>/dev/null | grep ld; done | tee out | uniq | wc -l)\n",
    "if [[ $count == 1 ]]; then\n",
    "   echo \"ASLR test: OK: ASLR properly starts binary with a constant instruction address\"\n",
    "else\n",
    "   echo \"ASLR test: ERROR: Failed to start a binary with a constant instruction address: $count\"\n",
    "fi\n",
    "\n",
    "# from https://docs.oracle.com/en/operating-systems/oracle-linux/6/security/ol_clp_sec.html:\n",
    "# \"kernel.randomize_va_space controls Address Space Layout Randomization (ASLR), which can help defeat certain types of buffer overflow \n",
    "# attacks. A value of 0 disables ASLR, 1 randomizes the positions of the stack, virtual dynamic shared object (VDSO) page, and shared memory \n",
    "# regions, and 2 randomizes the positions of the stack, VDSO page, shared memory regions, and the data segment. The default and recommended \n",
    "# setting is 2.\"\n",
    "\n",
    "aslr_status=$(cat /proc/sys/kernel/randomize_va_space)\n",
    "if [[ $aslr_status == 2 ]]; then\n",
    "    echo \"ASLR test: OK: Full ASLR is enabled\"\n",
    "elif [[ $aslr_status == 1 ]]; then\n",
    "    echo \"ASLR test: OK: Partial ASLR is enabled\"\n",
    "else\n",
    "    echo \"ASLR test: ERROR: ASLR is disabled\"\n",
    "fi"
   ]
  },
  {
   "cell_type": "code",
   "execution_count": null,
   "id": "af77ca39-5c75-4836-a009-babf5ed7e51e",
   "metadata": {},
   "outputs": [],
   "source": [
    "%%bash\n",
    "# Ping test to check internet connectivity\n",
    "ping -c 3 google.com > /dev/null 2>&1\n",
    "# if zero exit code from above command, ping is successful\n",
    "if [[ $? == 0 ]]; then\n",
    "    echo \"Ping test: OK: Internet connection is working.\"\n",
    "else\n",
    "    echo \"Ping test: ERROR: Internet connection is not working.\"\n",
    "fi"
   ]
  }
 ],
 "metadata": {
  "kernelspec": {
   "display_name": "Python 3 (ipykernel)",
   "language": "python",
   "name": "python3"
  },
  "language_info": {
   "codemirror_mode": {
    "name": "ipython",
    "version": 3
   },
   "file_extension": ".py",
   "mimetype": "text/x-python",
   "name": "python",
   "nbconvert_exporter": "python",
   "pygments_lexer": "ipython3",
   "version": "3.10.11"
  }
 },
 "nbformat": 4,
 "nbformat_minor": 5
}
