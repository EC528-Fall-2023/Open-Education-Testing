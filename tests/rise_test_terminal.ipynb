{
 "cells": [
  {
   "cell_type": "code",
   "execution_count": 1,
   "id": "6f59621a-9a8d-4a28-9e56-01d2e4f8caf4",
   "metadata": {
    "tags": []
   },
   "outputs": [],
   "source": [
    "import platform\n",
    "if platform.system() in ['Windows', 'Darwin']:\n",
    "    !pip install selenium > NUL\n",
    "    !pip install selenium  > NUL\n",
    "    !pip install webdriver_manager  > NUL\n",
    "    !pip install docker  > NUL\n",
    "    !pip install requests  > NUL\n",
    "elif platform.system() == 'Linux':\n",
    "    !pip install selenium  > /dev/null\n",
    "    !pip install webdriver_manager  > /dev/null\n",
    "    !pip install docker  > /dev/null\n",
    "    !pip install requests  > /dev/null"
   ]
  },
  {
   "cell_type": "markdown",
   "id": "bb462014-f9ec-402f-83ab-8f920aac8afb",
   "metadata": {},
   "source": [
    "## Test the RISE"
   ]
  },
  {
   "cell_type": "code",
   "execution_count": 22,
   "metadata": {},
   "outputs": [],
   "source": [
    "# replace token with your token\n",
    "token = \"4de03ac2aa444bbf5d7da46fbbf4410677036d3cec441c97\""
   ]
  },
  {
   "cell_type": "code",
   "execution_count": 23,
   "id": "a426cc0c-7d86-4764-9721-14da8229b26b",
   "metadata": {},
   "outputs": [],
   "source": [
    "from selenium import webdriver\n",
    "from selenium.webdriver.chrome.service import Service as ChromiumService\n",
    "from webdriver_manager.chrome import ChromeDriverManager\n",
    "from selenium.webdriver.chrome.options import Options\n",
    "from selenium.webdriver.common.by import By\n",
    "from selenium.webdriver.support.ui import WebDriverWait\n",
    "from selenium.webdriver.support import expected_conditions as EC\n",
    "from selenium.webdriver.common.keys import Keys\n",
    "import platform"
   ]
  },
  {
   "cell_type": "code",
   "execution_count": 24,
   "id": "0feb7e29-3fcf-4820-852f-376894746e84",
   "metadata": {},
   "outputs": [],
   "source": [
    "def setup_driver():\n",
    "    chrome_options = Options()\n",
    "    if platform.system() in ['Windows', 'Darwin']:\n",
    "        chrome_options.add_experimental_option('detach', True)\n",
    "    elif platform.system() == 'Linux':\n",
    "        chrome_options.add_argument('--headless')\n",
    "    else:\n",
    "        raise Exception(\"Unknown OS\")\n",
    "    return webdriver.Chrome(service=ChromiumService(ChromeDriverManager().install()), options=chrome_options)"
   ]
  },
  {
   "cell_type": "code",
   "execution_count": 25,
   "id": "c5c6f0ac-9876-4872-a2a6-e933be5cd2cb",
   "metadata": {},
   "outputs": [],
   "source": [
    "def find_element_and_click(driver, xpath):\n",
    "    try:\n",
    "        # element = WebDriverWait(driver, 15).until(\n",
    "        #     EC.element_to_be_clickable((By.XPATH, xpath))\n",
    "        # )\n",
    "        element = driver.find_element(By.XPATH, xpath)\n",
    "        element.click()\n",
    "        return element\n",
    "    except Exception as e:\n",
    "        print(f\"Error finding/clicking element: {e}\")\n"
   ]
  },
  {
   "cell_type": "markdown",
   "id": "6870d58a",
   "metadata": {},
   "source": [
    "## Test 4: Test terminal "
   ]
  },
  {
   "cell_type": "code",
   "execution_count": 26,
   "metadata": {},
   "outputs": [],
   "source": [
    "def test_terminal(token):\n",
    "    driver = setup_driver()\n",
    "    url = f\"http://127.0.0.1:8888/lab?token={token}\"\n",
    "\n",
    "    try:\n",
    "        driver.get(url)\n",
    "        print(\"Opened JupyterLab.\")\n",
    "        #used to return to base screen for next test\n",
    "        main_window_handle = driver.current_window_handle \n",
    "        try:\n",
    "            # Try to find the Launcher button\n",
    "            launcher_button = WebDriverWait(driver, 20).until(\n",
    "                EC.element_to_be_clickable((By.XPATH, '//button[@data-command=\"launcher:create\"]'))\n",
    "            )\n",
    "            launcher_button.click()\n",
    "            print(\"Opened the Launcher.\")\n",
    "        except:\n",
    "            print(\"Launcher button not found, skipping to Terminal.\")\n",
    "\n",
    "        # Click on the Terminal icon in the Launcher\n",
    "        terminal_icon = WebDriverWait(driver, 30).until(\n",
    "            EC.element_to_be_clickable((By.XPATH, '//div[@title=\"Start a new terminal session\"]'))\n",
    "        )\n",
    "        terminal_icon.click()\n",
    "        print(\"Opened Terminal.\")\n",
    "        terminal_input = WebDriverWait(driver, 20).until(\n",
    "            EC.presence_of_element_located((By.XPATH, \"//div[contains(@class, 'jp-Terminal')]//textarea\"))\n",
    "        )\n",
    "        print(\"Terminal is ready for input.\")    \n",
    "        # Find terminal input and execute a command\n",
    "        terminal_input.send_keys('echo Hello World' + Keys.ENTER)\n",
    "        print(\"Command sent to terminal.\")   \n",
    "        # Find terminal output and print it\n",
    "        output_xpath = \"//div[contains(@class, 'jp-Terminal-body')]\"\n",
    "        try:\n",
    "            output = WebDriverWait(driver, 20).until(\n",
    "                EC.presence_of_element_located((By.XPATH, output_xpath))\n",
    "            )\n",
    "            print(\"Captured terminal output:\" + output.text)\n",
    "        except Exception as e:\n",
    "            print(f\"An error occurred during test: {e}\")\n",
    "        print(\"Terminal test successful.\")\n",
    "        # Close the terminal\n",
    "        close_terminal_xpath = \"//div[contains(@class, 'jp-icon-hover') and contains(@class, 'lm-TabBar-tabCloseIcon')]\"\n",
    "        try:\n",
    "            close_terminal_button = WebDriverWait(driver, 20).until(\n",
    "                EC.element_to_be_clickable((By.XPATH, close_terminal_xpath))\n",
    "            )\n",
    "            close_terminal_button.click()\n",
    "            print(\"Closed Terminal.\")\n",
    "        except Exception as e:\n",
    "            print(\"Error closing terminal: \", e)\n",
    "    except Exception as e:\n",
    "        print(f\"An error occurred during test: {e}\")\n",
    "    finally:\n",
    "        driver.switch_to.window(main_window_handle)\n",
    "        driver.refresh()\n",
    "        driver.quit()"
   ]
  },
  {
   "cell_type": "code",
   "execution_count": 27,
   "id": "0eac59ad",
   "metadata": {},
   "outputs": [
    {
     "name": "stdout",
     "output_type": "stream",
     "text": [
      "Opened JupyterLab.\n",
      "Opened the Launcher.\n",
      "Opened Terminal.\n",
      "Terminal is ready for input.\n",
      "Command sent to terminal.\n",
      "Captured terminal output:\n",
      "Terminal test successful.\n",
      "Closed Terminal.\n"
     ]
    }
   ],
   "source": [
    "test_terminal(token)"
   ]
  },
  {
   "cell_type": "markdown",
   "id": "db3b2620",
   "metadata": {},
   "source": []
  }
 ],
 "metadata": {
  "kernelspec": {
   "display_name": "Python 3 (ipykernel)",
   "language": "python",
   "name": "python3"
  },
  "language_info": {
   "codemirror_mode": {
    "name": "ipython",
    "version": 3
   },
   "file_extension": ".py",
   "mimetype": "text/x-python",
   "name": "python",
   "nbconvert_exporter": "python",
   "pygments_lexer": "ipython3",
   "version": "3.9.1"
  }
 },
 "nbformat": 4,
 "nbformat_minor": 5
}
