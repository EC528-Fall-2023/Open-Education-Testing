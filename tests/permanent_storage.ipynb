import subprocess
import os
import sys

def shelltest(CMD):
    try:
        result = subprocess.check_output(CMD, shell=True, stderr=subprocess.STDOUT)
        return 0, result.decode('utf-8')
    except subprocess.CalledProcessError as e:
        return e.returncode, e.output.decode('utf-8')

ERRORS = 0
Test if permanent storage is accessed correctly
# Define the path to the permanent storage directory
permanent_storage_path = "/path/to/permanent/storage"

# Check if the permanent storage directory exists
def check_permanent_storage():
    storage_exists = os.path.exists(permanent_storage_path)
    return storage_exists

# Test permanent storage access
storage_result = check_permanent_storage()
if not storage_result:
    ERRORS += 1
    print("Permanent storage is not accessible.")
# Report
if ERRORS > 0:
    print("THERE ARE " + str(ERRORS) + " ERRORS")
else:
    print("ALL TESTS PASS")
