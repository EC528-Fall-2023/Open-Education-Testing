{
 "cells": [
  {
   "cell_type": "code",
   "execution_count": 1,  // This should be an integer
   "id": "your-cell-id",
   "metadata": {},
   "outputs": [],
   "source": [
    "import subprocess\n",
    "import os\n",
    "import sys\n",
    "\n",
    "def shelltest(CMD):\n",
    "    try:\n",
    "        result = subprocess.check_output(CMD, shell=True, stderr=subprocess.STDOUT)\n",
    "        return 0, result.decode('utf-8')\n",
    "    except subprocess.CalledProcessError as e:\n",
    "        return e.returncode, e.output.decode('utf-8')\n",
    "\n",
    "ERRORS = 0"
   ]
  },
  {
   "cell_type": "markdown",
   "id": "your-markdown-id",
   "metadata": {
    "user_expressions": []
   },
   "source": [
    "## Test if permanent storage is accessed correctly"
   ]
  },
  {
   "cell_type": "code",
   "execution_count": 2,  // This should be an integer
   "id": "your-cell-id-2",
   "metadata": {},
   "outputs": [],
   "source": [
    "# Define the path to the permanent storage directory\n",
    "permanent_storage_path = \"/path/to/permanent/storage\"\n",
    "\n",
    "# Check if the permanent storage directory exists\n",
    "def check_permanent_storage():\n",
    "    storage_exists = os.path.exists(permanent_storage_path)\n",
    "    return storage_exists\n",
    "\n",
    "# Test permanent storage access\n",
    "storage_result = check_permanent_storage()\n",
    "if not storage_result:\n",
    "    ERRORS += 1\n",
    "    print(\"Permanent storage is not accessible.\")"
   ]
  },
  {
   "cell_type": "code",
   "execution_count": 3,  // This should be an integer
   "id": "your-cell-id-3",
   "metadata": {},
   "outputs": [],
   "source": [
    "# Report\n",
    "if ERRORS > 0:\n",
    "    print(\"THERE ARE \" + str(ERRORS) + \" ERRORS\")\n",
    "else:\n",
    "    print(\"ALL TESTS PASS\")\n",
    "print(\"ERRORS:\", ERRORS)"
   ]
  }
 ],
 "metadata": {
  "kernelspec": {
   "display_name": "Python 3 (ipykernel)",
   "language": "python",
   "name": "python3"
  },
  "language_info": {
    "codemirror_mode": {
      "name": "ipython",
      "version": 3
    },
    "file_extension": ".py",
    "mimetype": "text/x-python",
    "name": "python",
    "nbconvert_exporter": "python",
    "pygments_lexer": "ipython3",
    "version": "3.9.16"
  }
 },
 "nbformat": 4,
 "nbformat_minor": 5
}
