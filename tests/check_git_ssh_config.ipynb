{
 "cells": [
  {
   "cell_type": "code",
   "execution_count": 1,  // This should be an integer
   "id": "your-cell-id",
   "metadata": {},
   "outputs": [],
   "source": [
    "import subprocess\n",
    "import os\n",
    "import sys\n",
    "\n",
    "def shelltest(CMD):\n",
    "    try:\n",
    "        result = subprocess.check_output(CMD, shell=True, stderr=subprocess.STDOUT)\n",
    "        return 0, result.decode('utf-8')\n",
    "    except subprocess.CalledProcessError as e:\n",
    "        return e.returncode, e.output.decode('utf-8')\n",
    "\n",
    "ERRORS = 0"
   ]
  },
  {
   "cell_type": "markdown",
   "id": "your-markdown-id",
   "metadata": {
    "user_expressions": []
   },
   "source": [
    "## Test if Git and SSH configuration files are permanent and working"
   ]
  },
  {
   "cell_type": "code",
   "execution_count": 2,  // This should be an integer
   "id": "your-cell-id-2",
   "metadata": {},
   "outputs": [
    {
     "name": "stdout",
     "output_type": "stream",
     "text": [
      "Git Configuration:\n",
      "\n"
     ]
    }
   ],
   "source": [
    "def check_git_config():\n",
    "    try:\n",
    "        # Check Git configuration\n",
    "        git_config = subprocess.check_output(\"git config --list\", shell=True, stderr=subprocess.STDOUT)\n",
    "        return git_config.decode('utf-8')\n",
    "    except subprocess.CalledProcessError as e:\n",
    "        return e.output.decode('utf-8')\n",
    "\n",
    "# Test Git configuration\n",
    "git_config_output = check_git_config()\n",
    "print(\"Git Configuration:\")\n",
    "print(git_config_output)"
   ]
  },
  {
   "cell_type": "code",
   "execution_count": 3,  // This should be an integer
   "id": "your-cell-id-3",
   "metadata": {},
   "outputs": [
    {
     "name": "stdout",
     "output_type": "stream",
     "text": [
      "SSH Configuration:\n",
      "\n"
     ]
    }
   ],
   "source": [
    "def check_ssh_config():\n",
    "    try:\n",
    "        # Check SSH configuration\n",
    "        ssh_config = subprocess.check_output(\"cat ~/.ssh/config\", shell=True, stderr=subprocess.STDOUT)\n",
    "        return ssh_config.decode('utf-8')\n",
    "    except subprocess.CalledProcessError as e:\n",
    "        return e.output.decode('utf-8')\n",
    "\n",
    "# Test SSH configuration\n",
    "ssh_config_output = check_ssh_config()\n",
    "print(\"SSH Configuration:\")\n",
    "print(ssh_config_output)"
   ]
  },
  {
   "cell_type": "code",
   "execution_count": 4,  // This should be an integer
   "id": "your-cell-id-4",
   "metadata": {},
   "outputs": [],
   "source": [
    "# Check if symbolic links exist\n",
    "def check_symbolic_links():\n",
    "    symbolic_links_exist = os.path.exists(\"path/to/symbolic/link\")\n",
    "    return symbolic_links_exist\n",
    "\n",
    "# Test symbolic links\n",
    "symbolic_links_result = check_symbolic_links()\n",
    "if not symbolic_links_result:\n",
    "    ERRORS += 1\n",
    "    print(\"Symbolic links do not exist.\")"
   ]
  },
  {
   "cell_type": "code",
   "execution_count": 5,  // This should be an integer
   "id": "your-cell-id-5",
   "metadata": {},
   "outputs": [],
   "source": [
    "# Report\n",
    "if ERRORS > 0:\n",
    "    print(\"THERE ARE \" + str(ERRORS) + \" ERRORS\")\n",
    "else:\n",
    "    print(\"ALL TESTS PASS\")\n",
    "print(\"ERRORS:\", ERRORS)"
   ]
  }
 ],
 "metadata": {
  "kernelspec": {
   "display_name": "Python 3 (ipykernel)",
   "language": "python",
   "name": "python3"
  },
  "language_info": {
    "codemirror_mode": {
      "name": "ipython",
      "version": 3
    },
    "file_extension": ".py",
    "mimetype": "text/x-python",
    "name": "python",
    "nbconvert_exporter": "python",
    "pygments_lexer": "ipython3",
    "version": "3.9.16"
  }
 },
 "nbformat": 4,
 "nbformat_minor":
