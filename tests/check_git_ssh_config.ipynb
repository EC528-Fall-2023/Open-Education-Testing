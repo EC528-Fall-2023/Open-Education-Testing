{
 "cells": [
  {
   "cell_type": "code",
   "metadata": {},
   "outputs": [],
   "source": [
    "import os\n",
    "import sys\n",
    "\n",
    "def check_git_ssh_config():\n",
    "    # Check if the Git config file exists\n",
    "    git_config_path = os.path.expanduser('~/.gitconfig')\n",
    "    if os.path.exists(git_config_path):\n",
    "        print('Git config file exists')\n",
    "    else:\n",
    "        print('Git config file does not exist')\n",
    "        return False\n",
    "\n",
    "    # Check if the SSH config file exists\n",
    "    ssh_config_path = os.path.expanduser('~/.ssh/config')\n",
    "    if os.path.exists(ssh_config_path):\n",
    "        print('SSH config file exists')\n",
    "    else:\n",
    "        print('SSH config file does not exist')\n",
    "        return False\n",
    "\n",
    "    # Check if symbolic links are present\n",
    "    git_symlink_path = os.path.expanduser('~/.git')\n",
    "    ssh_symlink_path = os.path.expanduser('~/.ssh/id_rsa')\n",
    "    if os.path.islink(git_symlink_path) or os.path.islink(ssh_symlink_path):\n",
    "        print('Symbolic links are present')\n",
    "    else:\n",
    "        print('Symbolic links are not present')\n",
    "        return False\n",
    "\n",
    "    return True\n",
    "\n",
    "if check_git_ssh_config():\n",
    "    print('Git and SSH configuration files are permanent and working')\n",
    "else:\n",
    "    print('Git and SSH configuration files are not configured correctly')\n"
   ]
  }
 ],
 "metadata": {
  "kernelspec": {
   "display_name": "Python 3 (ipykernel)",
   "language": "python",
   "name": "python3"
  },
  "language_info": {
   "codemirror_mode": {
    "name": "ipython",
    "version": 3
   },
   "file_extension": ".py",
   "mimetype": "text/x-python",
   "name": "python",
   "nbconvert_exporter": "python",
   "pygments_lexer": "ipython3",
   "version": "3.9.16"
  }
 },
 "nbformat": 4,
 "nbformat_minor": 5
}
