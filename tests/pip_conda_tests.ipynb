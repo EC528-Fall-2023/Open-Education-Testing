{
 "cells": [
  {
   "cell_type": "code",
   "execution_count": 1,
   "id": "c99276bb-b947-4d3d-a5ee-59393cd40df7",
   "metadata": {},
   "outputs": [],
   "source": [
    "import subprocess\n",
    "import os\n",
    "import sys\n",
    "import logging\n",
    "\n",
    "# Set up logging\n",
    "logging.basicConfig(level=logging.INFO, format='%(asctime)s - %(levelname)s - %(message)s')\n",
    "logger = logging.getLogger()\n",
    "\n",
    "def shelltest(CMD):\n",
    "    \"\"\"Executes a shell command and returns the result.\"\"\"\n",
    "    try:\n",
    "        result = subprocess.check_output(CMD, shell=True, stderr=subprocess.STDOUT)\n",
    "        return 0, result.decode('utf-8')\n",
    "    except subprocess.CalledProcessError as e:\n",
    "        logger.error(\"Shell command failed with CalledProcessError: %s\", str(e))\n",
    "        return e.returncode, e.output.decode('utf-8')\n",
    "    except Exception as e:\n",
    "        logger.exception(\"Unexpected error when running shell command.\")\n",
    "        return -1, str(e)\n",
    "\n",
    "ERRORS = 0"
   ]
  },
  {
   "cell_type": "markdown",
   "id": "a4fc0b22-ce74-4fe6-8a6c-126c6f56fdfa",
   "metadata": {
    "user_expressions": []
   },
   "source": [
    "## Test if pip package can be installed"
   ]
  },
  {
   "cell_type": "code",
   "execution_count": 2,
   "id": "0ce2a07f-948b-42a6-aaa5-6871baec545b",
   "metadata": {},
   "outputs": [
    {
     "name": "stderr",
     "output_type": "stream",
     "text": [
      "2023-10-18 00:54:48,912 - INFO - Output of PIP PACKAGE INSTALLATION:\n",
      "Requirement already satisfied: pytest in ./.local/lib/python3.9/site-packages (7.4.2)\n",
      "Requirement already satisfied: iniconfig in ./.local/lib/python3.9/site-packages (from pytest) (2.0.0)\n",
      "Requirement already satisfied: packaging in /opt/conda/lib/python3.9/site-packages (from pytest) (23.1)\n",
      "Requirement already satisfied: pluggy<2.0,>=0.12 in /opt/conda/lib/python3.9/site-packages (from pytest) (1.3.0)\n",
      "Requirement already satisfied: exceptiongroup>=1.0.0rc8 in /opt/conda/lib/python3.9/site-packages (from pytest) (1.1.3)\n",
      "Requirement already satisfied: tomli>=1.0.0 in /opt/conda/lib/python3.9/site-packages (from pytest) (2.0.1)\n",
      "\n"
     ]
    }
   ],
   "source": [
    "TEST = \"PIP PACKAGE INSTALLATION\"\n",
    "CMD = \"pip install --user pytest || echo 'PIP Install: No'\"\n",
    "ret_code, output = shelltest(CMD)\n",
    "logger.info(f\"Output of {TEST}:\\n{output}\")\n",
    "\n",
    "if 'PIP Install: No' in output or ret_code != 0:\n",
    "    ERRORS += 1\n",
    "    logger.error(\"PIP package installation failed.\")"
   ]
  },
  {
   "cell_type": "markdown",
   "id": "7577889f-b9b1-4cb6-8efe-e201fe5d8ff7",
   "metadata": {
    "user_expressions": []
   },
   "source": [
    "## Test if conda directories are read/writable"
   ]
  },
  {
   "cell_type": "code",
   "execution_count": 3,
   "id": "9bf937c3-d1c0-4db0-8ddd-0e2d4878ae67",
   "metadata": {
    "tags": []
   },
   "outputs": [
    {
     "name": "stderr",
     "output_type": "stream",
     "text": [
      "2023-10-18 00:54:48,922 - INFO - Conda Base Directory: /opt/conda\n",
      "2023-10-18 00:54:48,923 - INFO - Readable: True\n",
      "2023-10-18 00:54:48,923 - INFO - Writable: True\n",
      "\n",
      "2023-10-18 00:54:48,924 - INFO - Conda Environment Directory: \n",
      "2023-10-18 00:54:48,924 - INFO - Readable: False\n",
      "2023-10-18 00:54:48,924 - INFO - Writable: False\n",
      "\n"
     ]
    }
   ],
   "source": [
    "def check_permissions(dir_path):\n",
    "    \"\"\"Check if a directory is readable and writable.\"\"\"\n",
    "    try:\n",
    "        readable = os.access(dir_path, os.R_OK)\n",
    "        writable = os.access(dir_path, os.W_OK)\n",
    "        return readable, writable\n",
    "    except Exception as e:\n",
    "        logger.exception(f\"Error checking permissions for {dir_path}.\")\n",
    "        return False, False\n",
    "\n",
    "# Identify the conda directories\n",
    "conda_base_dir = os.path.abspath(os.path.join(os.path.dirname(os.sys.executable), \"..\"))\n",
    "conda_env_dir = os.environ.get('CONDA_PREFIX', '')\n",
    "\n",
    "unaccessible_dirs = 0\n",
    "\n",
    "# Ensure conda directories are available\n",
    "if not (conda_base_dir or conda_env_dir):\n",
    "    logger.error(\"Conda directory not found. Skipping test.\")\n",
    "    ERRORS += 1\n",
    "\n",
    "for dir_name, dir_path in [('Conda Base Directory', conda_base_dir), \n",
    "                           ('Conda Environment Directory', conda_env_dir)]:\n",
    "    readable, writable = check_permissions(dir_path)\n",
    "    logger.info(f\"{dir_name}: {dir_path}\")\n",
    "    logger.info(f\"Readable: {readable}\")\n",
    "    logger.info(f\"Writable: {writable}\\n\")\n",
    "\n",
    "    if not (readable and writable):\n",
    "        unaccessible_dirs += 1\n",
    "\n",
    "if unaccessible_dirs == 2:\n",
    "    ERRORS += 1\n",
    "    logger.error(\"Both Conda directories are not fully accessible.\")"
   ]
  },
  {
   "cell_type": "markdown",
   "id": "d8228037-6e64-4b3b-bb69-3e16c419a954",
   "metadata": {
    "user_expressions": []
   },
   "source": [
    "## Report"
   ]
  },
  {
   "cell_type": "code",
   "execution_count": 4,
   "id": "a43d6891-b7ad-40d2-a1bf-72d08b3c3a15",
   "metadata": {
    "tags": []
   },
   "outputs": [
    {
     "name": "stderr",
     "output_type": "stream",
     "text": [
      "2023-10-18 00:54:48,929 - INFO - ALL TESTS PASS\n",
      "2023-10-18 00:54:48,930 - INFO - ERRORS: 0\n"
     ]
    }
   ],
   "source": [
    "if ERRORS > 0:\n",
    "    logging.error(f\"THERE ARE {ERRORS} ERRORS\")\n",
    "else:\n",
    "    logging.info(\"ALL TESTS PASS\")\n",
    "\n",
    "logging.info(f\"ERRORS: {ERRORS}\")"
   ]
  }
 ],
 "metadata": {
  "kernelspec": {
   "display_name": "Python 3 (ipykernel)",
   "language": "python",
   "name": "python3"
  },
  "language_info": {
   "codemirror_mode": {
    "name": "ipython",
    "version": 3
   },
   "file_extension": ".py",
   "mimetype": "text/x-python",
   "name": "python",
   "nbconvert_exporter": "python",
   "pygments_lexer": "ipython3",
   "version": "3.9.16"
  }
 },
 "nbformat": 4,
 "nbformat_minor": 5
}
