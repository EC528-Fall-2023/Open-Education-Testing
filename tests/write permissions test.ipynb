{
 "cells": [
  {
   "cell_type": "markdown",
   "id": "3c1a873e-6d92-4f21-b3be-225bcc526f49",
   "metadata": {
    "id": "3c1a873e-6d92-4f21-b3be-225bcc526f49"
   },
   "source": [
    "# Test and Validate\n",
    "\n",
    "This notebook is a place for you to add test that confirm the environment is working correct for your executable content.\n",
    "\n"
   ]
  },
  {
   "cell_type": "markdown",
   "id": "a4fc0b22-ce74-4fe6-8a6c-126c6f56fdfa",
   "metadata": {
    "id": "a4fc0b22-ce74-4fe6-8a6c-126c6f56fdfa"
   },
   "source": [
    "## Test write permissions into home directory"
   ]
  },
  {
   "cell_type": "code",
   "execution_count": 5,
   "id": "0ce2a07f-948b-42a6-aaa5-6871baec545b",
   "metadata": {
    "colab": {
     "base_uri": "https://localhost:8080/"
    },
    "executionInfo": {
     "elapsed": 7,
     "status": "ok",
     "timestamp": 1696877282047,
     "user": {
      "displayName": "Yuxi Ge",
      "userId": "07301565889117006103"
     },
     "user_tz": 240
    },
    "id": "0ce2a07f-948b-42a6-aaa5-6871baec545b",
    "outputId": "17b18546-6c98-490a-df50-07b884a597f4",
    "tags": []
   },
   "outputs": [
    {
     "name": "stdout",
     "output_type": "stream",
     "text": [
      "Output of WRITE PERMISSION TO HOME DIRECTORY:\n",
      "Write Permission: Yes\n",
      "\n"
     ]
    }
   ],
   "source": [
    "import subprocess\n",
    "import os\n",
    "\n",
    "def shelltest(CMD):\n",
    "    try:\n",
    "        result = subprocess.check_output(CMD, shell=True, stderr=subprocess.STDOUT)\n",
    "        return 0, result.decode('utf-8')\n",
    "    except subprocess.CalledProcessError as e:\n",
    "        return e.returncode, e.output.decode('utf-8')\n",
    "    except Exception as e:  # new add: handle exceptions \n",
    "        return -1, str(e)\n",
    "\n",
    "# Test to check write permissions to home directory\n",
    "TEST = \"WRITE PERMISSION TO HOME DIRECTORY\"\n",
    "CMD = f\"touch {os.path.expanduser('~')}/test_write_permissions.tmp && echo 'Write Permission: Yes' && rm {os.path.expanduser('~')}/test_write_permissions.tmp || echo 'Write Permission: No'\"\n",
    "\n",
    "# Execute Test\n",
    "ERRORS, output = shelltest(CMD)\n",
    "print(f\"Output of {TEST}:\\n{output}\")"
   ]
  },
  {
   "cell_type": "markdown",
   "id": "d8228037-6e64-4b3b-bb69-3e16c419a954",
   "metadata": {
    "id": "d8228037-6e64-4b3b-bb69-3e16c419a954"
   },
   "source": [
    "## Report"
   ]
  },
  {
   "cell_type": "code",
   "execution_count": 6,
   "id": "a43d6891-b7ad-40d2-a1bf-72d08b3c3a15",
   "metadata": {
    "colab": {
     "base_uri": "https://localhost:8080/"
    },
    "executionInfo": {
     "elapsed": 172,
     "status": "ok",
     "timestamp": 1696877285340,
     "user": {
      "displayName": "Yuxi Ge",
      "userId": "07301565889117006103"
     },
     "user_tz": 240
    },
    "id": "a43d6891-b7ad-40d2-a1bf-72d08b3c3a15",
    "outputId": "e5b287c3-2316-4463-f3ef-5501d5e1bd2a"
   },
   "outputs": [
    {
     "name": "stdout",
     "output_type": "stream",
     "text": [
      "ALL TESTS PASS\n",
      "ERRORS: 0\n"
     ]
    }
   ],
   "source": [
    "if 'Write Permission: No' in output:\n",
    "    ERRORS += 1\n",
    "if ERRORS > 0:\n",
    "    print(\"THERE ARE \" + str(ERRORS)  + \" ERRORS\")\n",
    "else:\n",
    "    print(\"ALL TESTS PASS\")\n",
    "print(\"ERRORS:\", ERRORS)"
   ]
  }
 ],
 "metadata": {
  "colab": {
   "provenance": []
  },
  "kernelspec": {
   "display_name": "Python 3 (ipykernel)",
   "language": "python",
   "name": "python3"
  },
  "language_info": {
   "codemirror_mode": {
    "name": "ipython",
    "version": 3
   },
   "file_extension": ".py",
   "mimetype": "text/x-python",
   "name": "python",
   "nbconvert_exporter": "python",
   "pygments_lexer": "ipython3",
   "version": "3.9.16"
  }
 },
 "nbformat": 4,
 "nbformat_minor": 5
}
